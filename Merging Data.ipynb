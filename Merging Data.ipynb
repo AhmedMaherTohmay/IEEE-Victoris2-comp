{
 "cells": [
  {
   "cell_type": "markdown",
   "id": "25ff7f10",
   "metadata": {},
   "source": [
    "## Importing Libraries"
   ]
  },
  {
   "cell_type": "code",
   "execution_count": 1,
   "id": "1411602b",
   "metadata": {},
   "outputs": [],
   "source": [
    "import numpy as np\n",
    "import pandas as pd\n",
    "import seaborn as sns\n",
    "import matplotlib.pyplot as plt"
   ]
  },
  {
   "cell_type": "code",
   "execution_count": 2,
   "id": "9d4f8b3f",
   "metadata": {},
   "outputs": [],
   "source": [
    "df1 = pd.read_csv('Train_Batch_1.csv', index_col = 0)\n",
    "df2 = pd.read_csv('Train_Batch_2.csv', index_col = 0)\n",
    "df3 = pd.read_csv('Train_Batch_3.csv', index_col = 0)"
   ]
  },
  {
   "cell_type": "markdown",
   "id": "9ea9c7a9",
   "metadata": {},
   "source": [
    "# Features in test data\n",
    "- **Person Description**: Description of the person visiting the market\n",
    "- **Place Code**: Code for each place which consists of 2 city codes parts separated by \"_\"\n",
    "- **Customer Order**: information about the customer's order, including the type of product ordered and the brand.\n",
    "- **Additional Features in market**: A list of features that are found in the market.\n",
    "- **Promotion Name**: name of any promotion that was applied to the customer's purchase.\n",
    "- **Store Kind**: kind of store where the customer made their purchase.\n",
    "- **Store Sales**: The amount of money spent on sales that have been made since the store first opened..\n",
    "- **Store Cost**: Cost of the Store.\n",
    "- **Gross Weight**: the gross weight of the product in kilograms(Bought item weight).\n",
    "- **Net Weight**: the net weight of the product in kilograms(Bought item weight without the package).\n",
    "- **Package Weight**: the weight of the package in kilograms(Weight of the Package).\n",
    "- **Is Recyclable?**: indicates whether or not the product is recyclable.\n",
    "- **Yearly Income**: contains information about the yearly income of the person.\n",
    "- **Store Area**: contains information about the area of the store in square feet.\n",
    "- **Grocery Area**: Area of grocery department in the store.\n",
    "- **Frozen Area**: contains information about the area of the frozen food section of the store in square feet.\n",
    "- **Meat Area**: contains information about the area of the meat section of the store in square feet.\n",
    "- **Cost**: The target value (the cost of order of the person)."
   ]
  },
  {
   "cell_type": "markdown",
   "id": "7433a3a7",
   "metadata": {},
   "source": [
    "<div style=\"padding:20px; border-radius:5px;\">\n",
    "    <h1 style=\"color:black; font-weight:bold; text-align:center;\">Working On the First DF</h1>\n",
    "</div>"
   ]
  },
  {
   "cell_type": "code",
   "execution_count": 3,
   "id": "028238bc",
   "metadata": {},
   "outputs": [
    {
     "data": {
      "text/html": [
       "<div>\n",
       "<style scoped>\n",
       "    .dataframe tbody tr th:only-of-type {\n",
       "        vertical-align: middle;\n",
       "    }\n",
       "\n",
       "    .dataframe tbody tr th {\n",
       "        vertical-align: top;\n",
       "    }\n",
       "\n",
       "    .dataframe thead th {\n",
       "        text-align: right;\n",
       "    }\n",
       "</style>\n",
       "<table border=\"1\" class=\"dataframe\">\n",
       "  <thead>\n",
       "    <tr style=\"text-align: right;\">\n",
       "      <th></th>\n",
       "      <th>Person Description</th>\n",
       "      <th>Place Code</th>\n",
       "      <th>Customer Order</th>\n",
       "      <th>Additional Features in market</th>\n",
       "      <th>Promotion Name</th>\n",
       "      <th>Store Kind</th>\n",
       "      <th>Store Sales</th>\n",
       "      <th>Store Cost</th>\n",
       "      <th>Product Weights Data in (KG)</th>\n",
       "      <th>Is Recyclable?</th>\n",
       "      <th>Min. Yearly Income</th>\n",
       "      <th>Store Area</th>\n",
       "      <th>Grocery Area</th>\n",
       "      <th>Frozen Area</th>\n",
       "      <th>Meat Area</th>\n",
       "      <th>Cost</th>\n",
       "    </tr>\n",
       "  </thead>\n",
       "  <tbody>\n",
       "    <tr>\n",
       "      <th>mc_ID_7513</th>\n",
       "      <td>Married Female with No children, education: pa...</td>\n",
       "      <td>B14on_WA</td>\n",
       "      <td>Candy from Snacks department, Ordered Brand : ...</td>\n",
       "      <td>['Ready Food', 'Bar For Salad']</td>\n",
       "      <td>Price Cutters</td>\n",
       "      <td>Supermarket</td>\n",
       "      <td>10.95 Millions</td>\n",
       "      <td>4.4895 Millions</td>\n",
       "      <td>{'Gross Weight': 16.1349, 'Net Weight': 11.774...</td>\n",
       "      <td>non recyclable</td>\n",
       "      <td>10K+</td>\n",
       "      <td>3687.88</td>\n",
       "      <td>2265.03</td>\n",
       "      <td>855.22</td>\n",
       "      <td>568.75</td>\n",
       "      <td>761.0696</td>\n",
       "    </tr>\n",
       "    <tr>\n",
       "      <th>mc_ID_15484</th>\n",
       "      <td>Single Female with four children, education: p...</td>\n",
       "      <td>S04ne_WA</td>\n",
       "      <td>Vegetables from Produce department, Ordered Br...</td>\n",
       "      <td>NaN</td>\n",
       "      <td>Savings Galore</td>\n",
       "      <td>Supermarket</td>\n",
       "      <td>7.8 Millions</td>\n",
       "      <td>2.73 Millions</td>\n",
       "      <td>{'Gross Weight': 11.7741, 'Net Weight': 8.8669...</td>\n",
       "      <td>recyclable</td>\n",
       "      <td>10K+</td>\n",
       "      <td>2813.78</td>\n",
       "      <td>2049.72</td>\n",
       "      <td>NaN</td>\n",
       "      <td>303.67</td>\n",
       "      <td>714.2611</td>\n",
       "    </tr>\n",
       "    <tr>\n",
       "      <th>mc_ID_17118</th>\n",
       "      <td>Married Male with one child, education: gradua...</td>\n",
       "      <td>M10da_YU</td>\n",
       "      <td>Canned Soup from Canned Foods department, Orde...</td>\n",
       "      <td>['Video Store', 'Florist', 'Coffee Bar', 'Read...</td>\n",
       "      <td>Money Savers</td>\n",
       "      <td>Deluxe</td>\n",
       "      <td>11.28 Millions</td>\n",
       "      <td>3.4968 Millions</td>\n",
       "      <td>{'Gross Weight': 10.3496, 'Net Weight': 8.8815...</td>\n",
       "      <td>non recyclable</td>\n",
       "      <td>110K+</td>\n",
       "      <td>NaN</td>\n",
       "      <td>1871.16</td>\n",
       "      <td>593.93</td>\n",
       "      <td>396.41</td>\n",
       "      <td>343.6110</td>\n",
       "    </tr>\n",
       "  </tbody>\n",
       "</table>\n",
       "</div>"
      ],
      "text/plain": [
       "                                            Person Description Place Code  \\\n",
       "mc_ID_7513   Married Female with No children, education: pa...   B14on_WA   \n",
       "mc_ID_15484  Single Female with four children, education: p...   S04ne_WA   \n",
       "mc_ID_17118  Married Male with one child, education: gradua...   M10da_YU   \n",
       "\n",
       "                                                Customer Order  \\\n",
       "mc_ID_7513   Candy from Snacks department, Ordered Brand : ...   \n",
       "mc_ID_15484  Vegetables from Produce department, Ordered Br...   \n",
       "mc_ID_17118  Canned Soup from Canned Foods department, Orde...   \n",
       "\n",
       "                                 Additional Features in market  \\\n",
       "mc_ID_7513                     ['Ready Food', 'Bar For Salad']   \n",
       "mc_ID_15484                                                NaN   \n",
       "mc_ID_17118  ['Video Store', 'Florist', 'Coffee Bar', 'Read...   \n",
       "\n",
       "             Promotion Name   Store Kind     Store Sales       Store Cost  \\\n",
       "mc_ID_7513    Price Cutters  Supermarket  10.95 Millions  4.4895 Millions   \n",
       "mc_ID_15484  Savings Galore  Supermarket    7.8 Millions    2.73 Millions   \n",
       "mc_ID_17118    Money Savers       Deluxe  11.28 Millions  3.4968 Millions   \n",
       "\n",
       "                                  Product Weights Data in (KG)  \\\n",
       "mc_ID_7513   {'Gross Weight': 16.1349, 'Net Weight': 11.774...   \n",
       "mc_ID_15484  {'Gross Weight': 11.7741, 'Net Weight': 8.8669...   \n",
       "mc_ID_17118  {'Gross Weight': 10.3496, 'Net Weight': 8.8815...   \n",
       "\n",
       "             Is Recyclable? Min. Yearly Income Store Area Grocery Area  \\\n",
       "mc_ID_7513   non recyclable               10K+    3687.88      2265.03   \n",
       "mc_ID_15484      recyclable               10K+    2813.78      2049.72   \n",
       "mc_ID_17118  non recyclable              110K+        NaN      1871.16   \n",
       "\n",
       "             Frozen Area Meat Area      Cost  \n",
       "mc_ID_7513        855.22    568.75  761.0696  \n",
       "mc_ID_15484          NaN    303.67  714.2611  \n",
       "mc_ID_17118       593.93    396.41  343.6110  "
      ]
     },
     "execution_count": 3,
     "metadata": {},
     "output_type": "execute_result"
    }
   ],
   "source": [
    "df1.sample(3) "
   ]
  },
  {
   "cell_type": "code",
   "execution_count": 4,
   "id": "11dda39e",
   "metadata": {},
   "outputs": [
    {
     "name": "stdout",
     "output_type": "stream",
     "text": [
      "<class 'pandas.core.frame.DataFrame'>\n",
      "Index: 19440 entries, mc_ID_0 to mc_ID_19354\n",
      "Data columns (total 16 columns):\n",
      " #   Column                         Non-Null Count  Dtype  \n",
      "---  ------                         --------------  -----  \n",
      " 0   Person Description             19440 non-null  object \n",
      " 1   Place Code                     19440 non-null  object \n",
      " 2   Customer Order                 19440 non-null  object \n",
      " 3   Additional Features in market  15140 non-null  object \n",
      " 4   Promotion Name                 16530 non-null  object \n",
      " 5   Store Kind                     16530 non-null  object \n",
      " 6   Store Sales                    19440 non-null  object \n",
      " 7   Store Cost                     19440 non-null  object \n",
      " 8   Product Weights Data in (KG)   19440 non-null  object \n",
      " 9   Is Recyclable?                 19440 non-null  object \n",
      " 10  Min. Yearly Income             19437 non-null  object \n",
      " 11  Store Area                     17483 non-null  object \n",
      " 12  Grocery Area                   17460 non-null  object \n",
      " 13  Frozen Area                    17506 non-null  float64\n",
      " 14  Meat Area                      17492 non-null  object \n",
      " 15  Cost                           19416 non-null  float64\n",
      "dtypes: float64(2), object(14)\n",
      "memory usage: 2.5+ MB\n"
     ]
    }
   ],
   "source": [
    "df1.info()"
   ]
  },
  {
   "cell_type": "markdown",
   "id": "1fdbd683",
   "metadata": {},
   "source": [
    "Trying to understand why areas are not float values !!"
   ]
  },
  {
   "cell_type": "code",
   "execution_count": 5,
   "id": "008ca331",
   "metadata": {},
   "outputs": [
    {
     "name": "stdout",
     "output_type": "stream",
     "text": [
      "[nan '\"221.15\"']\n"
     ]
    }
   ],
   "source": [
    "non_numeric_values = df1.loc[~pd.to_numeric(df1['Meat Area'], errors='coerce').notnull(), 'Meat Area'].unique()\n",
    "print(non_numeric_values)"
   ]
  },
  {
   "cell_type": "code",
   "execution_count": 6,
   "id": "7f278748",
   "metadata": {},
   "outputs": [
    {
     "name": "stdout",
     "output_type": "stream",
     "text": [
      "[nan '\"2049.72\"' '\"1525.28\"' 'missing']\n"
     ]
    }
   ],
   "source": [
    "non_numeric_values = df1.loc[~pd.to_numeric(df1['Grocery Area'], errors='coerce').notnull(), 'Grocery Area'].unique()\n",
    "print(non_numeric_values)"
   ]
  },
  {
   "cell_type": "code",
   "execution_count": 7,
   "id": "82137737",
   "metadata": {},
   "outputs": [
    {
     "name": "stdout",
     "output_type": "stream",
     "text": [
      "[nan 'missing']\n"
     ]
    }
   ],
   "source": [
    "non_numeric_values = df1.loc[~pd.to_numeric(df1['Store Area'], errors='coerce').notnull(), 'Store Area'].unique()\n",
    "print(non_numeric_values)"
   ]
  },
  {
   "cell_type": "markdown",
   "id": "8e81c95a",
   "metadata": {},
   "source": [
    "Okay now we can fix these problems "
   ]
  },
  {
   "cell_type": "code",
   "execution_count": 8,
   "id": "d74e0593",
   "metadata": {},
   "outputs": [],
   "source": [
    "def clean_column(df, col_name):\n",
    "    df[col_name] = df[col_name].str.replace('\"', '')\n",
    "    df[col_name] = df[col_name].astype(float)\n",
    "    return df\n",
    "\n",
    "df1 = df1.replace('missing', np.nan)"
   ]
  },
  {
   "cell_type": "code",
   "execution_count": 9,
   "id": "1e6ba584",
   "metadata": {},
   "outputs": [],
   "source": [
    "df1 = clean_column(df1.copy(), 'Meat Area')\n",
    "df1 = clean_column(df1.copy(), 'Grocery Area')\n",
    "df1 = clean_column(df1.copy(), 'Store Area')"
   ]
  },
  {
   "cell_type": "code",
   "execution_count": 10,
   "id": "8c512883",
   "metadata": {},
   "outputs": [
    {
     "name": "stdout",
     "output_type": "stream",
     "text": [
      "<class 'pandas.core.frame.DataFrame'>\n",
      "Index: 19440 entries, mc_ID_0 to mc_ID_19354\n",
      "Data columns (total 16 columns):\n",
      " #   Column                         Non-Null Count  Dtype  \n",
      "---  ------                         --------------  -----  \n",
      " 0   Person Description             19440 non-null  object \n",
      " 1   Place Code                     19440 non-null  object \n",
      " 2   Customer Order                 19440 non-null  object \n",
      " 3   Additional Features in market  15140 non-null  object \n",
      " 4   Promotion Name                 16530 non-null  object \n",
      " 5   Store Kind                     16530 non-null  object \n",
      " 6   Store Sales                    19440 non-null  object \n",
      " 7   Store Cost                     19440 non-null  object \n",
      " 8   Product Weights Data in (KG)   19440 non-null  object \n",
      " 9   Is Recyclable?                 19440 non-null  object \n",
      " 10  Min. Yearly Income             19437 non-null  object \n",
      " 11  Store Area                     17482 non-null  float64\n",
      " 12  Grocery Area                   17459 non-null  float64\n",
      " 13  Frozen Area                    17506 non-null  float64\n",
      " 14  Meat Area                      17492 non-null  float64\n",
      " 15  Cost                           19416 non-null  float64\n",
      "dtypes: float64(5), object(11)\n",
      "memory usage: 2.5+ MB\n"
     ]
    }
   ],
   "source": [
    "df1.info()"
   ]
  },
  {
   "cell_type": "markdown",
   "id": "3bc0e811",
   "metadata": {},
   "source": [
    "now it's time to break the product weights into the gross , net , package weights"
   ]
  },
  {
   "cell_type": "code",
   "execution_count": 11,
   "id": "0ca756ff",
   "metadata": {},
   "outputs": [
    {
     "data": {
      "text/html": [
       "<div>\n",
       "<style scoped>\n",
       "    .dataframe tbody tr th:only-of-type {\n",
       "        vertical-align: middle;\n",
       "    }\n",
       "\n",
       "    .dataframe tbody tr th {\n",
       "        vertical-align: top;\n",
       "    }\n",
       "\n",
       "    .dataframe thead th {\n",
       "        text-align: right;\n",
       "    }\n",
       "</style>\n",
       "<table border=\"1\" class=\"dataframe\">\n",
       "  <thead>\n",
       "    <tr style=\"text-align: right;\">\n",
       "      <th></th>\n",
       "      <th>Person Description</th>\n",
       "      <th>Place Code</th>\n",
       "      <th>Customer Order</th>\n",
       "      <th>Additional Features in market</th>\n",
       "      <th>Promotion Name</th>\n",
       "      <th>Store Kind</th>\n",
       "      <th>Store Sales</th>\n",
       "      <th>Store Cost</th>\n",
       "      <th>Is Recyclable?</th>\n",
       "      <th>Min. Yearly Income</th>\n",
       "      <th>Store Area</th>\n",
       "      <th>Grocery Area</th>\n",
       "      <th>Frozen Area</th>\n",
       "      <th>Meat Area</th>\n",
       "      <th>Cost</th>\n",
       "      <th>Gross Weight</th>\n",
       "      <th>Net Weight</th>\n",
       "      <th>Package Weight</th>\n",
       "    </tr>\n",
       "  </thead>\n",
       "  <tbody>\n",
       "    <tr>\n",
       "      <th>mc_ID_0</th>\n",
       "      <td>Single Female with four children, education: b...</td>\n",
       "      <td>H11go_ZA</td>\n",
       "      <td>Cleaning Supplies from Household department, O...</td>\n",
       "      <td>['Video Store', 'Florist', 'Ready Food', 'Coff...</td>\n",
       "      <td>Dimes Off</td>\n",
       "      <td>Deluxe</td>\n",
       "      <td>8.76 Millions</td>\n",
       "      <td>4.2924 Millions</td>\n",
       "      <td>recyclable</td>\n",
       "      <td>10K+</td>\n",
       "      <td>2842.23</td>\n",
       "      <td>2037.64</td>\n",
       "      <td>481.98</td>\n",
       "      <td>323.0</td>\n",
       "      <td>602.7575</td>\n",
       "      <td>28.1997</td>\n",
       "      <td>26.6008</td>\n",
       "      <td>1.599</td>\n",
       "    </tr>\n",
       "    <tr>\n",
       "      <th>mc_ID_1</th>\n",
       "      <td>Single Female with three children, education: ...</td>\n",
       "      <td>S04ne_WA</td>\n",
       "      <td>Snack Foods from Snack Foods department, Order...</td>\n",
       "      <td>NaN</td>\n",
       "      <td>Budget Bargains</td>\n",
       "      <td>Supermarket</td>\n",
       "      <td>6.36 Millions</td>\n",
       "      <td>1.9716 Millions</td>\n",
       "      <td>non recyclable</td>\n",
       "      <td>50K+</td>\n",
       "      <td>2814.95</td>\n",
       "      <td>2049.72</td>\n",
       "      <td>457.36</td>\n",
       "      <td>NaN</td>\n",
       "      <td>708.6650</td>\n",
       "      <td>16.5710</td>\n",
       "      <td>14.9720</td>\n",
       "      <td>1.599</td>\n",
       "    </tr>\n",
       "  </tbody>\n",
       "</table>\n",
       "</div>"
      ],
      "text/plain": [
       "                                        Person Description Place Code  \\\n",
       "mc_ID_0  Single Female with four children, education: b...   H11go_ZA   \n",
       "mc_ID_1  Single Female with three children, education: ...   S04ne_WA   \n",
       "\n",
       "                                            Customer Order  \\\n",
       "mc_ID_0  Cleaning Supplies from Household department, O...   \n",
       "mc_ID_1  Snack Foods from Snack Foods department, Order...   \n",
       "\n",
       "                             Additional Features in market   Promotion Name  \\\n",
       "mc_ID_0  ['Video Store', 'Florist', 'Ready Food', 'Coff...        Dimes Off   \n",
       "mc_ID_1                                                NaN  Budget Bargains   \n",
       "\n",
       "          Store Kind    Store Sales       Store Cost  Is Recyclable?  \\\n",
       "mc_ID_0       Deluxe  8.76 Millions  4.2924 Millions      recyclable   \n",
       "mc_ID_1  Supermarket  6.36 Millions  1.9716 Millions  non recyclable   \n",
       "\n",
       "        Min. Yearly Income  Store Area  Grocery Area  Frozen Area  Meat Area  \\\n",
       "mc_ID_0               10K+     2842.23       2037.64       481.98      323.0   \n",
       "mc_ID_1               50K+     2814.95       2049.72       457.36        NaN   \n",
       "\n",
       "             Cost  Gross Weight  Net Weight  Package Weight  \n",
       "mc_ID_0  602.7575       28.1997     26.6008           1.599  \n",
       "mc_ID_1  708.6650       16.5710     14.9720           1.599  "
      ]
     },
     "execution_count": 11,
     "metadata": {},
     "output_type": "execute_result"
    }
   ],
   "source": [
    "for key in ['Gross Weight', 'Net Weight', 'Package Weight']:\n",
    "    df1[key] = [eval(x)[key] for x in df1['Product Weights Data in (KG)'].values]\n",
    "\n",
    "df1 = df1.drop('Product Weights Data in (KG)', axis=1)\n",
    "df1.head(2)\n"
   ]
  },
  {
   "cell_type": "markdown",
   "id": "071770ef",
   "metadata": {},
   "source": [
    "Now it's time for min yearly income"
   ]
  },
  {
   "cell_type": "code",
   "execution_count": 12,
   "id": "663846e0",
   "metadata": {},
   "outputs": [
    {
     "data": {
      "text/plain": [
       "array(['10K+', '50K+', '30K+', '130K+', '70K+', '110K+', '90K+', '150K+',\n",
       "       nan], dtype=object)"
      ]
     },
     "execution_count": 12,
     "metadata": {},
     "output_type": "execute_result"
    }
   ],
   "source": [
    "df1 = df1.rename(columns={'Min. Yearly Income': 'Yearly_Income'})\n",
    "df1['Yearly_Income'].unique()"
   ]
  },
  {
   "cell_type": "markdown",
   "id": "2e54a034",
   "metadata": {},
   "source": [
    "Let's chech Store sales , Store cost and Store Kind"
   ]
  },
  {
   "cell_type": "code",
   "execution_count": 13,
   "id": "4d50f944",
   "metadata": {},
   "outputs": [
    {
     "name": "stdout",
     "output_type": "stream",
     "text": [
      "['Millions']\n"
     ]
    }
   ],
   "source": [
    "df_test = pd.read_csv('Train_Batch_1.csv', index_col = 0)\n",
    "\n",
    "parts = df_test['Store Cost'].str.split(expand=True)\n",
    "print(parts[1].unique())"
   ]
  },
  {
   "cell_type": "code",
   "execution_count": 14,
   "id": "42a6fcf4",
   "metadata": {},
   "outputs": [
    {
     "name": "stdout",
     "output_type": "stream",
     "text": [
      "['Millions']\n"
     ]
    }
   ],
   "source": [
    "parts = df_test['Store Sales'].str.split(expand=True)\n",
    "print(parts[1].unique())"
   ]
  },
  {
   "cell_type": "code",
   "execution_count": 15,
   "id": "103f4486",
   "metadata": {},
   "outputs": [
    {
     "data": {
      "text/plain": [
       "array(['Deluxe', 'Supermarket', nan, 'Gourmet', 'Mid-Size',\n",
       "       'Small Grocery'], dtype=object)"
      ]
     },
     "execution_count": 15,
     "metadata": {},
     "output_type": "execute_result"
    }
   ],
   "source": [
    "df1['Store Kind'].unique()"
   ]
  },
  {
   "cell_type": "markdown",
   "id": "64d26e98",
   "metadata": {},
   "source": [
    "After Checking other columns I found to keep them now as they are fine to be merged then we can handle them properly"
   ]
  },
  {
   "cell_type": "markdown",
   "id": "c5c82759",
   "metadata": {},
   "source": [
    "After taking some samples I descovered diff suffix like M and illions and so on so I decided to union them all with one suffix and it will be M "
   ]
  },
  {
   "cell_type": "markdown",
   "id": "8d48fc5e",
   "metadata": {},
   "source": [
    "<div style=\"padding:20px; border-radius:5px;\">\n",
    "    <h1 style=\"color:black; font-weight:bold; text-align:center;\">Working On the 2nd DF</h1>\n",
    "</div>"
   ]
  },
  {
   "cell_type": "code",
   "execution_count": 16,
   "id": "b11a9204",
   "metadata": {},
   "outputs": [
    {
     "data": {
      "text/html": [
       "<div>\n",
       "<style scoped>\n",
       "    .dataframe tbody tr th:only-of-type {\n",
       "        vertical-align: middle;\n",
       "    }\n",
       "\n",
       "    .dataframe tbody tr th {\n",
       "        vertical-align: top;\n",
       "    }\n",
       "\n",
       "    .dataframe thead th {\n",
       "        text-align: right;\n",
       "    }\n",
       "</style>\n",
       "<table border=\"1\" class=\"dataframe\">\n",
       "  <thead>\n",
       "    <tr style=\"text-align: right;\">\n",
       "      <th></th>\n",
       "      <th>Person Description</th>\n",
       "      <th>Place Code</th>\n",
       "      <th>Customer Order</th>\n",
       "      <th>Additional Features in market</th>\n",
       "      <th>Promotion Name</th>\n",
       "      <th>Store Kind</th>\n",
       "      <th>Store Sales</th>\n",
       "      <th>Store Cost</th>\n",
       "      <th>Gross Weight</th>\n",
       "      <th>Net Weight</th>\n",
       "      <th>Is Recyclable?</th>\n",
       "      <th>Min. Person Yearly Income</th>\n",
       "      <th>Store Area</th>\n",
       "      <th>Grocery Area</th>\n",
       "      <th>Frozen Area</th>\n",
       "      <th>Meat Area</th>\n",
       "      <th>Cost</th>\n",
       "    </tr>\n",
       "  </thead>\n",
       "  <tbody>\n",
       "    <tr>\n",
       "      <th>mc_ID_10052</th>\n",
       "      <td>Married Female with two children, education: b...</td>\n",
       "      <td>B06ls_CA</td>\n",
       "      <td>Vegetables from Produce department, Ordered Br...</td>\n",
       "      <td>['Coffee Bar', 'Ready Food', 'Video Store', 'F...</td>\n",
       "      <td>One Day Sale</td>\n",
       "      <td>Gourmet</td>\n",
       "      <td>9.51 M</td>\n",
       "      <td>4.4697 M</td>\n",
       "      <td>29.2172</td>\n",
       "      <td>26.3100</td>\n",
       "      <td>yes</td>\n",
       "      <td>70K+</td>\n",
       "      <td>2199.38</td>\n",
       "      <td>1425.72</td>\n",
       "      <td>465.54</td>\n",
       "      <td>310.30</td>\n",
       "      <td>449.1524</td>\n",
       "    </tr>\n",
       "    <tr>\n",
       "      <th>mc_ID_7612</th>\n",
       "      <td>Married Female with two children, education: p...</td>\n",
       "      <td>B08am_WA</td>\n",
       "      <td>Vegetables from Produce department, Ordered Br...</td>\n",
       "      <td>['Coffee Bar']</td>\n",
       "      <td>Two Day Sale</td>\n",
       "      <td>Small Grocery</td>\n",
       "      <td>1.45 M</td>\n",
       "      <td>0.58 M</td>\n",
       "      <td>20.7864</td>\n",
       "      <td>16.4256</td>\n",
       "      <td>yes</td>\n",
       "      <td>130K+</td>\n",
       "      <td>2625.20</td>\n",
       "      <td>NaN</td>\n",
       "      <td>330.83</td>\n",
       "      <td>220.55</td>\n",
       "      <td>389.6350</td>\n",
       "    </tr>\n",
       "    <tr>\n",
       "      <th>mc_ID_17</th>\n",
       "      <td>Married Male with five children, education: hi...</td>\n",
       "      <td>L05es_CA</td>\n",
       "      <td>Canned Clams from Canned Foods department, Ord...</td>\n",
       "      <td>['Florist']</td>\n",
       "      <td>Roller Savings (High)</td>\n",
       "      <td>Supermarket</td>\n",
       "      <td>11.55 M</td>\n",
       "      <td>4.158 M</td>\n",
       "      <td>29.6533</td>\n",
       "      <td>25.1472</td>\n",
       "      <td>yes</td>\n",
       "      <td>30K+</td>\n",
       "      <td>2191.23</td>\n",
       "      <td>1320.15</td>\n",
       "      <td>523.32</td>\n",
       "      <td>347.34</td>\n",
       "      <td>532.6232</td>\n",
       "    </tr>\n",
       "  </tbody>\n",
       "</table>\n",
       "</div>"
      ],
      "text/plain": [
       "                                            Person Description Place Code  \\\n",
       "mc_ID_10052  Married Female with two children, education: b...   B06ls_CA   \n",
       "mc_ID_7612   Married Female with two children, education: p...   B08am_WA   \n",
       "mc_ID_17     Married Male with five children, education: hi...   L05es_CA   \n",
       "\n",
       "                                                Customer Order  \\\n",
       "mc_ID_10052  Vegetables from Produce department, Ordered Br...   \n",
       "mc_ID_7612   Vegetables from Produce department, Ordered Br...   \n",
       "mc_ID_17     Canned Clams from Canned Foods department, Ord...   \n",
       "\n",
       "                                 Additional Features in market  \\\n",
       "mc_ID_10052  ['Coffee Bar', 'Ready Food', 'Video Store', 'F...   \n",
       "mc_ID_7612                                      ['Coffee Bar']   \n",
       "mc_ID_17                                           ['Florist']   \n",
       "\n",
       "                     Promotion Name     Store Kind Store Sales Store Cost  \\\n",
       "mc_ID_10052            One Day Sale        Gourmet      9.51 M   4.4697 M   \n",
       "mc_ID_7612             Two Day Sale  Small Grocery      1.45 M     0.58 M   \n",
       "mc_ID_17     Roller Savings (High)     Supermarket     11.55 M    4.158 M   \n",
       "\n",
       "             Gross Weight  Net Weight Is Recyclable?  \\\n",
       "mc_ID_10052       29.2172     26.3100            yes   \n",
       "mc_ID_7612        20.7864     16.4256            yes   \n",
       "mc_ID_17          29.6533     25.1472            yes   \n",
       "\n",
       "            Min. Person Yearly Income  Store Area  Grocery Area Frozen Area  \\\n",
       "mc_ID_10052                      70K+     2199.38       1425.72      465.54   \n",
       "mc_ID_7612                      130K+     2625.20           NaN      330.83   \n",
       "mc_ID_17                         30K+     2191.23       1320.15      523.32   \n",
       "\n",
       "             Meat Area      Cost  \n",
       "mc_ID_10052     310.30  449.1524  \n",
       "mc_ID_7612      220.55  389.6350  \n",
       "mc_ID_17        347.34  532.6232  "
      ]
     },
     "execution_count": 16,
     "metadata": {},
     "output_type": "execute_result"
    }
   ],
   "source": [
    "df2.sample(3) "
   ]
  },
  {
   "cell_type": "code",
   "execution_count": 17,
   "id": "85c3c7d6",
   "metadata": {},
   "outputs": [
    {
     "name": "stdout",
     "output_type": "stream",
     "text": [
      "<class 'pandas.core.frame.DataFrame'>\n",
      "Index: 12956 entries, mc_ID_0 to mc_ID_12955\n",
      "Data columns (total 17 columns):\n",
      " #   Column                         Non-Null Count  Dtype  \n",
      "---  ------                         --------------  -----  \n",
      " 0   Person Description             12956 non-null  object \n",
      " 1   Place Code                     12956 non-null  object \n",
      " 2   Customer Order                 12954 non-null  object \n",
      " 3   Additional Features in market  12956 non-null  object \n",
      " 4   Promotion Name                 11665 non-null  object \n",
      " 5   Store Kind                     11683 non-null  object \n",
      " 6   Store Sales                    12955 non-null  object \n",
      " 7   Store Cost                     12956 non-null  object \n",
      " 8   Gross Weight                   11014 non-null  float64\n",
      " 9   Net Weight                     11018 non-null  float64\n",
      " 10  Is Recyclable?                 12956 non-null  object \n",
      " 11  Min. Person Yearly Income      12952 non-null  object \n",
      " 12  Store Area                     11663 non-null  float64\n",
      " 13  Grocery Area                   11658 non-null  float64\n",
      " 14  Frozen Area                    11657 non-null  object \n",
      " 15  Meat Area                      11688 non-null  float64\n",
      " 16  Cost                           12953 non-null  float64\n",
      "dtypes: float64(6), object(11)\n",
      "memory usage: 1.8+ MB\n"
     ]
    }
   ],
   "source": [
    "df2.info()"
   ]
  },
  {
   "cell_type": "markdown",
   "id": "f9f889cb",
   "metadata": {},
   "source": [
    "Fixing Frozen Area"
   ]
  },
  {
   "cell_type": "code",
   "execution_count": 18,
   "id": "d200ccb3",
   "metadata": {},
   "outputs": [
    {
     "name": "stdout",
     "output_type": "stream",
     "text": [
      "[nan '503.07.' '\"\"']\n"
     ]
    }
   ],
   "source": [
    "non_numeric_values = df2.loc[~pd.to_numeric(df2['Frozen Area'], errors='coerce').notnull(), 'Frozen Area'].unique()\n",
    "print(non_numeric_values)"
   ]
  },
  {
   "cell_type": "code",
   "execution_count": 19,
   "id": "abe9b950",
   "metadata": {},
   "outputs": [],
   "source": [
    "df2['Frozen Area'] = df2['Frozen Area'].str.replace('\"', '')\n",
    "df2['Frozen Area'] = df2['Frozen Area'].str.rstrip('.')\n",
    "df2['Frozen Area'] = pd.to_numeric(df2['Frozen Area'], errors='coerce')\n",
    "df2['Frozen Area'] = df2['Frozen Area'].astype(float)"
   ]
  },
  {
   "cell_type": "markdown",
   "id": "2bc6f140",
   "metadata": {},
   "source": [
    "Adding package weights"
   ]
  },
  {
   "cell_type": "code",
   "execution_count": 20,
   "id": "adb7a2e5",
   "metadata": {},
   "outputs": [],
   "source": [
    "df2['Package Weight'] = df2['Gross Weight'] - df2['Net Weight']"
   ]
  },
  {
   "cell_type": "markdown",
   "id": "4eaf54a4",
   "metadata": {},
   "source": [
    "Checking on yearly income"
   ]
  },
  {
   "cell_type": "code",
   "execution_count": 21,
   "id": "ad2eb773",
   "metadata": {},
   "outputs": [
    {
     "data": {
      "text/plain": [
       "array(['30K+', '10K+', '50K+', '90K+', '110K+', '150K+', '70K+', '130K+',\n",
       "       '130K+.', nan], dtype=object)"
      ]
     },
     "execution_count": 21,
     "metadata": {},
     "output_type": "execute_result"
    }
   ],
   "source": [
    "df2 = df2.rename(columns={'Min. Person Yearly Income': 'Yearly_Income'})\n",
    "df2['Yearly_Income'].unique()"
   ]
  },
  {
   "cell_type": "markdown",
   "id": "c67bae42",
   "metadata": {},
   "source": [
    "130K.  !!??"
   ]
  },
  {
   "cell_type": "code",
   "execution_count": 22,
   "id": "90e8dd1c",
   "metadata": {},
   "outputs": [
    {
     "data": {
      "text/plain": [
       "array(['30K+', '10K+', '50K+', '90K+', '110K+', '150K+', '70K+', '130K+',\n",
       "       nan], dtype=object)"
      ]
     },
     "execution_count": 22,
     "metadata": {},
     "output_type": "execute_result"
    }
   ],
   "source": [
    "df2['Yearly_Income'].replace({\"130K+.\" : \"130K+\"}, inplace = True)\n",
    "df2['Yearly_Income'].unique()"
   ]
  },
  {
   "cell_type": "markdown",
   "id": "e5b8849d",
   "metadata": {},
   "source": [
    "Checking Store Sales , Store Cost, Store Kind"
   ]
  },
  {
   "cell_type": "code",
   "execution_count": 23,
   "id": "ab3859e8",
   "metadata": {},
   "outputs": [
    {
     "name": "stdout",
     "output_type": "stream",
     "text": [
      "['M']\n"
     ]
    }
   ],
   "source": [
    "df_test = pd.read_csv('Train_Batch_2.csv', index_col = 0)\n",
    "\n",
    "parts = df_test['Store Cost'].str.split(expand=True)\n",
    "print(parts[1].unique())"
   ]
  },
  {
   "cell_type": "code",
   "execution_count": 24,
   "id": "4b6dfd5f",
   "metadata": {},
   "outputs": [
    {
     "name": "stdout",
     "output_type": "stream",
     "text": [
      "['M' 'Millions' nan]\n"
     ]
    }
   ],
   "source": [
    "parts = df_test['Store Sales'].str.split(expand=True)\n",
    "print(parts[1].unique())"
   ]
  },
  {
   "cell_type": "code",
   "execution_count": 25,
   "id": "187d005f",
   "metadata": {},
   "outputs": [],
   "source": [
    "col = ['Store Sales','Store Cost']\n",
    "df2[col] = df2[col].replace({'M': 'Millions'}, regex=True)"
   ]
  },
  {
   "cell_type": "code",
   "execution_count": 26,
   "id": "c379293c",
   "metadata": {},
   "outputs": [
    {
     "data": {
      "text/html": [
       "<div>\n",
       "<style scoped>\n",
       "    .dataframe tbody tr th:only-of-type {\n",
       "        vertical-align: middle;\n",
       "    }\n",
       "\n",
       "    .dataframe tbody tr th {\n",
       "        vertical-align: top;\n",
       "    }\n",
       "\n",
       "    .dataframe thead th {\n",
       "        text-align: right;\n",
       "    }\n",
       "</style>\n",
       "<table border=\"1\" class=\"dataframe\">\n",
       "  <thead>\n",
       "    <tr style=\"text-align: right;\">\n",
       "      <th></th>\n",
       "      <th>Person Description</th>\n",
       "      <th>Place Code</th>\n",
       "      <th>Customer Order</th>\n",
       "      <th>Additional Features in market</th>\n",
       "      <th>Promotion Name</th>\n",
       "      <th>Store Kind</th>\n",
       "      <th>Store Sales</th>\n",
       "      <th>Store Cost</th>\n",
       "      <th>Gross Weight</th>\n",
       "      <th>Net Weight</th>\n",
       "      <th>Is Recyclable?</th>\n",
       "      <th>Yearly_Income</th>\n",
       "      <th>Store Area</th>\n",
       "      <th>Grocery Area</th>\n",
       "      <th>Frozen Area</th>\n",
       "      <th>Meat Area</th>\n",
       "      <th>Cost</th>\n",
       "      <th>Package Weight</th>\n",
       "    </tr>\n",
       "  </thead>\n",
       "  <tbody>\n",
       "    <tr>\n",
       "      <th>mc_ID_0</th>\n",
       "      <td>Single Male with two children, education: high...</td>\n",
       "      <td>S01em_OR</td>\n",
       "      <td>Baking Goods from Baking Goods department, Ord...</td>\n",
       "      <td>['Video Store', 'Florist', 'Ready Food', 'Bar ...</td>\n",
       "      <td>Tip Top Savings</td>\n",
       "      <td>Deluxe</td>\n",
       "      <td>3.28 Millions</td>\n",
       "      <td>0.984 Millions</td>\n",
       "      <td>21.9493</td>\n",
       "      <td>19.0421</td>\n",
       "      <td>yes</td>\n",
       "      <td>30K+</td>\n",
       "      <td>2577.50</td>\n",
       "      <td>1734.50</td>\n",
       "      <td>503.07</td>\n",
       "      <td>335.38</td>\n",
       "      <td>287.1270</td>\n",
       "      <td>2.9072</td>\n",
       "    </tr>\n",
       "    <tr>\n",
       "      <th>mc_ID_1</th>\n",
       "      <td>Married Male with four children, education: hi...</td>\n",
       "      <td>T02ma_WA</td>\n",
       "      <td>Canned Sardines from Canned Foods department, ...</td>\n",
       "      <td>['Florist', 'Bar For Salad', 'Ready Food', 'Co...</td>\n",
       "      <td>Discount Frenzy</td>\n",
       "      <td>Deluxe</td>\n",
       "      <td>9.35 Millions</td>\n",
       "      <td>4.2075 Millions</td>\n",
       "      <td>19.1874</td>\n",
       "      <td>16.1349</td>\n",
       "      <td>yes</td>\n",
       "      <td>30K+</td>\n",
       "      <td>3145.51</td>\n",
       "      <td>2057.74</td>\n",
       "      <td>654.13</td>\n",
       "      <td>NaN</td>\n",
       "      <td>779.6884</td>\n",
       "      <td>3.0525</td>\n",
       "    </tr>\n",
       "  </tbody>\n",
       "</table>\n",
       "</div>"
      ],
      "text/plain": [
       "                                        Person Description Place Code  \\\n",
       "mc_ID_0  Single Male with two children, education: high...   S01em_OR   \n",
       "mc_ID_1  Married Male with four children, education: hi...   T02ma_WA   \n",
       "\n",
       "                                            Customer Order  \\\n",
       "mc_ID_0  Baking Goods from Baking Goods department, Ord...   \n",
       "mc_ID_1  Canned Sardines from Canned Foods department, ...   \n",
       "\n",
       "                             Additional Features in market   Promotion Name  \\\n",
       "mc_ID_0  ['Video Store', 'Florist', 'Ready Food', 'Bar ...  Tip Top Savings   \n",
       "mc_ID_1  ['Florist', 'Bar For Salad', 'Ready Food', 'Co...  Discount Frenzy   \n",
       "\n",
       "        Store Kind    Store Sales       Store Cost  Gross Weight  Net Weight  \\\n",
       "mc_ID_0     Deluxe  3.28 Millions   0.984 Millions       21.9493     19.0421   \n",
       "mc_ID_1     Deluxe  9.35 Millions  4.2075 Millions       19.1874     16.1349   \n",
       "\n",
       "        Is Recyclable? Yearly_Income  Store Area  Grocery Area  Frozen Area  \\\n",
       "mc_ID_0            yes          30K+     2577.50       1734.50       503.07   \n",
       "mc_ID_1            yes          30K+     3145.51       2057.74       654.13   \n",
       "\n",
       "         Meat Area      Cost  Package Weight  \n",
       "mc_ID_0     335.38  287.1270          2.9072  \n",
       "mc_ID_1        NaN  779.6884          3.0525  "
      ]
     },
     "execution_count": 26,
     "metadata": {},
     "output_type": "execute_result"
    }
   ],
   "source": [
    "df2.head(2)"
   ]
  },
  {
   "cell_type": "markdown",
   "id": "b249a18d",
   "metadata": {},
   "source": [
    "<div style=\"padding:20px; border-radius:5px;\">\n",
    "    <h1 style=\"color:black; font-weight:bold; text-align:center;\">Working On the 3rd DF</h1>\n",
    "</div>"
   ]
  },
  {
   "cell_type": "code",
   "execution_count": 27,
   "id": "c36b4a61",
   "metadata": {},
   "outputs": [
    {
     "data": {
      "text/html": [
       "<div>\n",
       "<style scoped>\n",
       "    .dataframe tbody tr th:only-of-type {\n",
       "        vertical-align: middle;\n",
       "    }\n",
       "\n",
       "    .dataframe tbody tr th {\n",
       "        vertical-align: top;\n",
       "    }\n",
       "\n",
       "    .dataframe thead th {\n",
       "        text-align: right;\n",
       "    }\n",
       "</style>\n",
       "<table border=\"1\" class=\"dataframe\">\n",
       "  <thead>\n",
       "    <tr style=\"text-align: right;\">\n",
       "      <th></th>\n",
       "      <th>Person%20Description</th>\n",
       "      <th>Place%20Code</th>\n",
       "      <th>Customer%20Order</th>\n",
       "      <th>Additional%20Features%20in%20market</th>\n",
       "      <th>Promotion%20Name</th>\n",
       "      <th>Store%20Kind</th>\n",
       "      <th>Store%20Sales</th>\n",
       "      <th>Store%20Cost</th>\n",
       "      <th>Gross%20Weight</th>\n",
       "      <th>Net%20Weight</th>\n",
       "      <th>Weights%20Data</th>\n",
       "      <th>Is%20Recyclable?</th>\n",
       "      <th>Yearly%20Income</th>\n",
       "      <th>Store%20Area</th>\n",
       "      <th>Grocery%20Area</th>\n",
       "      <th>Frozen%20Area</th>\n",
       "      <th>Meat%20Area</th>\n",
       "      <th>Cost</th>\n",
       "    </tr>\n",
       "  </thead>\n",
       "  <tbody>\n",
       "    <tr>\n",
       "      <th>mc_ID_2395</th>\n",
       "      <td>Married Male with one child, education: partia...</td>\n",
       "      <td>S04ne_WA</td>\n",
       "      <td>Vegetables from Produce department, Ordered Br...</td>\n",
       "      <td>[]</td>\n",
       "      <td>Wallet Savers</td>\n",
       "      <td>Supermarket</td>\n",
       "      <td>7.2 Millions</td>\n",
       "      <td>3.312 Millions</td>\n",
       "      <td>10.2624</td>\n",
       "      <td>7.3406</td>\n",
       "      <td>{'Gross Weight': 10.2624, 'Net Weight': 7.3406...</td>\n",
       "      <td>yes</td>\n",
       "      <td>30K+</td>\n",
       "      <td>2810.69</td>\n",
       "      <td>NaN</td>\n",
       "      <td>457.36</td>\n",
       "      <td>304.91</td>\n",
       "      <td>418.1385</td>\n",
       "    </tr>\n",
       "    <tr>\n",
       "      <th>mc_ID_2901</th>\n",
       "      <td>Single Female with five children, education: h...</td>\n",
       "      <td>B06ls_CA</td>\n",
       "      <td>Frozen Desserts from Frozen Foods department, ...</td>\n",
       "      <td>['Bar For Salad', 'Ready Food', 'Florist', 'Vi...</td>\n",
       "      <td>Two Day Sale</td>\n",
       "      <td>NaN</td>\n",
       "      <td>2.52 Millions</td>\n",
       "      <td>0.9576 Millions</td>\n",
       "      <td>27.7636</td>\n",
       "      <td>NaN</td>\n",
       "      <td>{'Gross Weight': 27.7636, 'Net Weight': 23.402...</td>\n",
       "      <td>no</td>\n",
       "      <td>30K+</td>\n",
       "      <td>NaN</td>\n",
       "      <td>1424.85</td>\n",
       "      <td>465.54</td>\n",
       "      <td>309.10</td>\n",
       "      <td>663.5824</td>\n",
       "    </tr>\n",
       "  </tbody>\n",
       "</table>\n",
       "</div>"
      ],
      "text/plain": [
       "                                         Person%20Description Place%20Code  \\\n",
       "mc_ID_2395  Married Male with one child, education: partia...     S04ne_WA   \n",
       "mc_ID_2901  Single Female with five children, education: h...     B06ls_CA   \n",
       "\n",
       "                                             Customer%20Order  \\\n",
       "mc_ID_2395  Vegetables from Produce department, Ordered Br...   \n",
       "mc_ID_2901  Frozen Desserts from Frozen Foods department, ...   \n",
       "\n",
       "                          Additional%20Features%20in%20market  \\\n",
       "mc_ID_2395                                                 []   \n",
       "mc_ID_2901  ['Bar For Salad', 'Ready Food', 'Florist', 'Vi...   \n",
       "\n",
       "           Promotion%20Name Store%20Kind  Store%20Sales     Store%20Cost  \\\n",
       "mc_ID_2395    Wallet Savers  Supermarket   7.2 Millions   3.312 Millions   \n",
       "mc_ID_2901     Two Day Sale          NaN  2.52 Millions  0.9576 Millions   \n",
       "\n",
       "            Gross%20Weight  Net%20Weight  \\\n",
       "mc_ID_2395         10.2624        7.3406   \n",
       "mc_ID_2901         27.7636           NaN   \n",
       "\n",
       "                                               Weights%20Data  \\\n",
       "mc_ID_2395  {'Gross Weight': 10.2624, 'Net Weight': 7.3406...   \n",
       "mc_ID_2901  {'Gross Weight': 27.7636, 'Net Weight': 23.402...   \n",
       "\n",
       "           Is%20Recyclable? Yearly%20Income  Store%20Area  Grocery%20Area  \\\n",
       "mc_ID_2395              yes            30K+       2810.69             NaN   \n",
       "mc_ID_2901               no            30K+           NaN         1424.85   \n",
       "\n",
       "            Frozen%20Area  Meat%20Area      Cost  \n",
       "mc_ID_2395         457.36       304.91  418.1385  \n",
       "mc_ID_2901         465.54       309.10  663.5824  "
      ]
     },
     "execution_count": 27,
     "metadata": {},
     "output_type": "execute_result"
    }
   ],
   "source": [
    "df3.sample(2)"
   ]
  },
  {
   "cell_type": "markdown",
   "id": "a4060da2",
   "metadata": {},
   "source": [
    "Getting packages weights with renaming the columns"
   ]
  },
  {
   "cell_type": "code",
   "execution_count": 28,
   "id": "3455179d",
   "metadata": {},
   "outputs": [],
   "source": [
    "df3['Package Weight'] = [eval(x)['Package Weight'] for x in df3['Weights%20Data'].values]\n",
    "df3 = df3.drop('Weights%20Data', axis=1)\n",
    "df3.columns = df3.columns.str.replace('%20', ' ')"
   ]
  },
  {
   "cell_type": "code",
   "execution_count": 29,
   "id": "58f846a4",
   "metadata": {},
   "outputs": [
    {
     "name": "stdout",
     "output_type": "stream",
     "text": [
      "<class 'pandas.core.frame.DataFrame'>\n",
      "Index: 6466 entries, mc_ID_0 to mc_ID_6465\n",
      "Data columns (total 18 columns):\n",
      " #   Column                         Non-Null Count  Dtype  \n",
      "---  ------                         --------------  -----  \n",
      " 0   Person Description             6466 non-null   object \n",
      " 1   Place Code                     6466 non-null   object \n",
      " 2   Customer Order                 6466 non-null   object \n",
      " 3   Additional Features in market  6466 non-null   object \n",
      " 4   Promotion Name                 4839 non-null   object \n",
      " 5   Store Kind                     4840 non-null   object \n",
      " 6   Store Sales                    6452 non-null   object \n",
      " 7   Store Cost                     6459 non-null   object \n",
      " 8   Gross Weight                   5491 non-null   float64\n",
      " 9   Net Weight                     5511 non-null   float64\n",
      " 10  Is Recyclable?                 6464 non-null   object \n",
      " 11  Yearly Income                  6465 non-null   object \n",
      " 12  Store Area                     6151 non-null   float64\n",
      " 13  Grocery Area                   6138 non-null   float64\n",
      " 14  Frozen Area                    6147 non-null   float64\n",
      " 15  Meat Area                      6133 non-null   float64\n",
      " 16  Cost                           6462 non-null   float64\n",
      " 17  Package Weight                 6466 non-null   float64\n",
      "dtypes: float64(8), object(10)\n",
      "memory usage: 959.8+ KB\n"
     ]
    }
   ],
   "source": [
    "df3.info()"
   ]
  },
  {
   "cell_type": "markdown",
   "id": "2c45abd7",
   "metadata": {},
   "source": [
    "Yearly_Income"
   ]
  },
  {
   "cell_type": "code",
   "execution_count": 30,
   "id": "ed020d16",
   "metadata": {},
   "outputs": [
    {
     "data": {
      "text/plain": [
       "array(['90K+', '30K+', '10K+', '110K+', '70K+', '50K+', '130K+', '150K+',\n",
       "       nan], dtype=object)"
      ]
     },
     "execution_count": 30,
     "metadata": {},
     "output_type": "execute_result"
    }
   ],
   "source": [
    "df3 = df3.rename(columns={'Yearly Income': 'Yearly_Income'})\n",
    "df3['Yearly_Income'].unique()"
   ]
  },
  {
   "cell_type": "markdown",
   "id": "966c7f8f",
   "metadata": {},
   "source": [
    "Checking Store Sales , Store Cost, Store Kind"
   ]
  },
  {
   "cell_type": "code",
   "execution_count": 31,
   "id": "21776e48",
   "metadata": {},
   "outputs": [
    {
     "name": "stdout",
     "output_type": "stream",
     "text": [
      "['Millions' nan]\n"
     ]
    }
   ],
   "source": [
    "df_test = pd.read_csv('Train_Batch_3.csv', index_col = 0)\n",
    "\n",
    "parts = df_test['Store%20Cost'].str.split(expand=True)\n",
    "print(parts[1].unique())"
   ]
  },
  {
   "cell_type": "code",
   "execution_count": 32,
   "id": "0d8a812e",
   "metadata": {},
   "outputs": [
    {
     "name": "stdout",
     "output_type": "stream",
     "text": [
      "['Millions' nan]\n"
     ]
    }
   ],
   "source": [
    "parts = df_test['Store%20Sales'].str.split(expand=True)\n",
    "print(parts[1].unique())"
   ]
  },
  {
   "cell_type": "code",
   "execution_count": 33,
   "id": "153cda84",
   "metadata": {},
   "outputs": [
    {
     "data": {
      "text/plain": [
       "array(['Deluxe', nan, 'Supermarket', 'Small Grocery', 'Mid-Size',\n",
       "       'Gourmet'], dtype=object)"
      ]
     },
     "execution_count": 33,
     "metadata": {},
     "output_type": "execute_result"
    }
   ],
   "source": [
    "df3['Store Kind'].unique()"
   ]
  },
  {
   "cell_type": "code",
   "execution_count": 34,
   "id": "f537361e",
   "metadata": {},
   "outputs": [
    {
     "data": {
      "text/html": [
       "<div>\n",
       "<style scoped>\n",
       "    .dataframe tbody tr th:only-of-type {\n",
       "        vertical-align: middle;\n",
       "    }\n",
       "\n",
       "    .dataframe tbody tr th {\n",
       "        vertical-align: top;\n",
       "    }\n",
       "\n",
       "    .dataframe thead th {\n",
       "        text-align: right;\n",
       "    }\n",
       "</style>\n",
       "<table border=\"1\" class=\"dataframe\">\n",
       "  <thead>\n",
       "    <tr style=\"text-align: right;\">\n",
       "      <th></th>\n",
       "      <th>Person Description</th>\n",
       "      <th>Place Code</th>\n",
       "      <th>Customer Order</th>\n",
       "      <th>Additional Features in market</th>\n",
       "      <th>Promotion Name</th>\n",
       "      <th>Store Kind</th>\n",
       "      <th>Store Sales</th>\n",
       "      <th>Store Cost</th>\n",
       "      <th>Gross Weight</th>\n",
       "      <th>Net Weight</th>\n",
       "      <th>Is Recyclable?</th>\n",
       "      <th>Yearly_Income</th>\n",
       "      <th>Store Area</th>\n",
       "      <th>Grocery Area</th>\n",
       "      <th>Frozen Area</th>\n",
       "      <th>Meat Area</th>\n",
       "      <th>Cost</th>\n",
       "      <th>Package Weight</th>\n",
       "    </tr>\n",
       "  </thead>\n",
       "  <tbody>\n",
       "    <tr>\n",
       "      <th>mc_ID_0</th>\n",
       "      <td>Single Female with two children, education: pa...</td>\n",
       "      <td>T02ma_WA</td>\n",
       "      <td>Meat from Deli department, Ordered Brand : Red...</td>\n",
       "      <td>['Coffee Bar', 'Florist', 'Ready Food', 'Bar F...</td>\n",
       "      <td>Sale : Double Down</td>\n",
       "      <td>Deluxe</td>\n",
       "      <td>7.12 Millions</td>\n",
       "      <td>2.5632 Millions</td>\n",
       "      <td>23.2575</td>\n",
       "      <td>20.3503</td>\n",
       "      <td>yes</td>\n",
       "      <td>90K+</td>\n",
       "      <td>3145.51</td>\n",
       "      <td>2056.79</td>\n",
       "      <td>654.13</td>\n",
       "      <td>436.09</td>\n",
       "      <td>500.7202</td>\n",
       "      <td>2.9072</td>\n",
       "    </tr>\n",
       "    <tr>\n",
       "      <th>mc_ID_1</th>\n",
       "      <td>Single Female with five children, education: p...</td>\n",
       "      <td>M10da_YU</td>\n",
       "      <td>Specialty from Produce department, Ordered Bra...</td>\n",
       "      <td>['Coffee Bar', 'Florist', 'Bar For Salad', 'Vi...</td>\n",
       "      <td>GLD</td>\n",
       "      <td>Deluxe</td>\n",
       "      <td>14.72 Millions</td>\n",
       "      <td>7.0656 Millions</td>\n",
       "      <td>16.7163</td>\n",
       "      <td>12.3555</td>\n",
       "      <td>yes</td>\n",
       "      <td>30K+</td>\n",
       "      <td>2856.68</td>\n",
       "      <td>1871.16</td>\n",
       "      <td>595.93</td>\n",
       "      <td>395.51</td>\n",
       "      <td>484.1411</td>\n",
       "      <td>4.3608</td>\n",
       "    </tr>\n",
       "  </tbody>\n",
       "</table>\n",
       "</div>"
      ],
      "text/plain": [
       "                                        Person Description Place Code  \\\n",
       "mc_ID_0  Single Female with two children, education: pa...   T02ma_WA   \n",
       "mc_ID_1  Single Female with five children, education: p...   M10da_YU   \n",
       "\n",
       "                                            Customer Order  \\\n",
       "mc_ID_0  Meat from Deli department, Ordered Brand : Red...   \n",
       "mc_ID_1  Specialty from Produce department, Ordered Bra...   \n",
       "\n",
       "                             Additional Features in market  \\\n",
       "mc_ID_0  ['Coffee Bar', 'Florist', 'Ready Food', 'Bar F...   \n",
       "mc_ID_1  ['Coffee Bar', 'Florist', 'Bar For Salad', 'Vi...   \n",
       "\n",
       "             Promotion Name Store Kind     Store Sales       Store Cost  \\\n",
       "mc_ID_0  Sale : Double Down     Deluxe   7.12 Millions  2.5632 Millions   \n",
       "mc_ID_1                 GLD     Deluxe  14.72 Millions  7.0656 Millions   \n",
       "\n",
       "         Gross Weight  Net Weight Is Recyclable? Yearly_Income  Store Area  \\\n",
       "mc_ID_0       23.2575     20.3503            yes          90K+     3145.51   \n",
       "mc_ID_1       16.7163     12.3555            yes          30K+     2856.68   \n",
       "\n",
       "         Grocery Area  Frozen Area  Meat Area      Cost  Package Weight  \n",
       "mc_ID_0       2056.79       654.13     436.09  500.7202          2.9072  \n",
       "mc_ID_1       1871.16       595.93     395.51  484.1411          4.3608  "
      ]
     },
     "execution_count": 34,
     "metadata": {},
     "output_type": "execute_result"
    }
   ],
   "source": [
    "df3.head(2)"
   ]
  },
  {
   "cell_type": "markdown",
   "id": "b32210ee",
   "metadata": {},
   "source": [
    "<div style=\"padding:20px; border-radius:5px;\">\n",
    "    <h1 style=\"color:black; font-weight:bold; text-align:center;\">Merging Data</h1>\n",
    "</div>"
   ]
  },
  {
   "cell_type": "code",
   "execution_count": 35,
   "id": "55fe6d57",
   "metadata": {},
   "outputs": [],
   "source": [
    "df = pd.concat([df1, df2, df3], ignore_index=True)"
   ]
  },
  {
   "cell_type": "code",
   "execution_count": 36,
   "id": "1f423717",
   "metadata": {},
   "outputs": [
    {
     "data": {
      "text/html": [
       "<div>\n",
       "<style scoped>\n",
       "    .dataframe tbody tr th:only-of-type {\n",
       "        vertical-align: middle;\n",
       "    }\n",
       "\n",
       "    .dataframe tbody tr th {\n",
       "        vertical-align: top;\n",
       "    }\n",
       "\n",
       "    .dataframe thead th {\n",
       "        text-align: right;\n",
       "    }\n",
       "</style>\n",
       "<table border=\"1\" class=\"dataframe\">\n",
       "  <thead>\n",
       "    <tr style=\"text-align: right;\">\n",
       "      <th></th>\n",
       "      <th>Person Description</th>\n",
       "      <th>Place Code</th>\n",
       "      <th>Customer Order</th>\n",
       "      <th>Additional Features in market</th>\n",
       "      <th>Promotion Name</th>\n",
       "      <th>Store Kind</th>\n",
       "      <th>Store Sales</th>\n",
       "      <th>Store Cost</th>\n",
       "      <th>Is Recyclable?</th>\n",
       "      <th>Yearly_Income</th>\n",
       "      <th>Store Area</th>\n",
       "      <th>Grocery Area</th>\n",
       "      <th>Frozen Area</th>\n",
       "      <th>Meat Area</th>\n",
       "      <th>Cost</th>\n",
       "      <th>Gross Weight</th>\n",
       "      <th>Net Weight</th>\n",
       "      <th>Package Weight</th>\n",
       "    </tr>\n",
       "  </thead>\n",
       "  <tbody>\n",
       "    <tr>\n",
       "      <th>0</th>\n",
       "      <td>Single Female with four children, education: b...</td>\n",
       "      <td>H11go_ZA</td>\n",
       "      <td>Cleaning Supplies from Household department, O...</td>\n",
       "      <td>['Video Store', 'Florist', 'Ready Food', 'Coff...</td>\n",
       "      <td>Dimes Off</td>\n",
       "      <td>Deluxe</td>\n",
       "      <td>8.76 Millions</td>\n",
       "      <td>4.2924 Millions</td>\n",
       "      <td>recyclable</td>\n",
       "      <td>10K+</td>\n",
       "      <td>2842.23</td>\n",
       "      <td>2037.64</td>\n",
       "      <td>481.98</td>\n",
       "      <td>323.0</td>\n",
       "      <td>602.7575</td>\n",
       "      <td>28.1997</td>\n",
       "      <td>26.6008</td>\n",
       "      <td>1.599</td>\n",
       "    </tr>\n",
       "  </tbody>\n",
       "</table>\n",
       "</div>"
      ],
      "text/plain": [
       "                                  Person Description Place Code  \\\n",
       "0  Single Female with four children, education: b...   H11go_ZA   \n",
       "\n",
       "                                      Customer Order  \\\n",
       "0  Cleaning Supplies from Household department, O...   \n",
       "\n",
       "                       Additional Features in market Promotion Name  \\\n",
       "0  ['Video Store', 'Florist', 'Ready Food', 'Coff...      Dimes Off   \n",
       "\n",
       "  Store Kind    Store Sales       Store Cost Is Recyclable? Yearly_Income  \\\n",
       "0     Deluxe  8.76 Millions  4.2924 Millions     recyclable          10K+   \n",
       "\n",
       "   Store Area  Grocery Area  Frozen Area  Meat Area      Cost  Gross Weight  \\\n",
       "0     2842.23       2037.64       481.98      323.0  602.7575       28.1997   \n",
       "\n",
       "   Net Weight  Package Weight  \n",
       "0     26.6008           1.599  "
      ]
     },
     "execution_count": 36,
     "metadata": {},
     "output_type": "execute_result"
    }
   ],
   "source": [
    "df.head(1)"
   ]
  },
  {
   "cell_type": "code",
   "execution_count": 37,
   "id": "5be31f1f",
   "metadata": {},
   "outputs": [],
   "source": [
    "df.to_csv('merged.csv', index=False)"
   ]
  }
 ],
 "metadata": {
  "kernelspec": {
   "display_name": "Python 3 (ipykernel)",
   "language": "python",
   "name": "python3"
  },
  "language_info": {
   "codemirror_mode": {
    "name": "ipython",
    "version": 3
   },
   "file_extension": ".py",
   "mimetype": "text/x-python",
   "name": "python",
   "nbconvert_exporter": "python",
   "pygments_lexer": "ipython3",
   "version": "3.10.9"
  }
 },
 "nbformat": 4,
 "nbformat_minor": 5
}
