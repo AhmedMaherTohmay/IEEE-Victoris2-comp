{
 "cells": [
  {
   "cell_type": "code",
   "execution_count": 1,
   "id": "308e27aa",
   "metadata": {
    "execution": {
     "iopub.execute_input": "2023-09-03T12:19:20.132555Z",
     "iopub.status.busy": "2023-09-03T12:19:20.131437Z",
     "iopub.status.idle": "2023-09-03T12:19:23.314757Z",
     "shell.execute_reply": "2023-09-03T12:19:23.313528Z"
    },
    "papermill": {
     "duration": 3.204546,
     "end_time": "2023-09-03T12:19:23.318585",
     "exception": false,
     "start_time": "2023-09-03T12:19:20.114039",
     "status": "completed"
    },
    "tags": []
   },
   "outputs": [],
   "source": [
    "import pandas as pd\n",
    "import numpy as np\n",
    "import matplotlib.pyplot as plt\n",
    "import seaborn as sns\n",
    "from sklearn.model_selection import train_test_split\n",
    "from sklearn.pipeline import Pipeline\n",
    "from sklearn.compose import ColumnTransformer\n",
    "from sklearn.impute import SimpleImputer\n",
    "from sklearn.preprocessing import OrdinalEncoder, OneHotEncoder, FunctionTransformer, StandardScaler\n",
    "from sklearn.ensemble import RandomForestRegressor, VotingRegressor, ExtraTreesRegressor, BaggingRegressor\n",
    "from sklearn.linear_model import LinearRegression\n",
    "from sklearn.svm import LinearSVR, SVR\n",
    "from sklearn.tree import DecisionTreeRegressor\n",
    "from sklearn.metrics import mean_squared_error as mse, mean_absolute_error as mae\n",
    "from xgboost import XGBRegressor\n",
    "from sklearn.model_selection import cross_val_score\n",
    "from sklearn.base import BaseEstimator, TransformerMixin\n",
    "from sklearn.model_selection import GridSearchCV\n",
    "\n",
    "pd.set_option(\"display.max_rows\", None)"
   ]
  },
  {
   "cell_type": "code",
   "execution_count": 2,
   "id": "e4df67ce",
   "metadata": {},
   "outputs": [
    {
     "name": "stdout",
     "output_type": "stream",
     "text": [
      "<class 'pandas.core.frame.DataFrame'>\n",
      "RangeIndex: 38862 entries, 0 to 38861\n",
      "Data columns (total 18 columns):\n",
      " #   Column                         Non-Null Count  Dtype  \n",
      "---  ------                         --------------  -----  \n",
      " 0   Person Description             38862 non-null  object \n",
      " 1   Place Code                     38862 non-null  object \n",
      " 2   Customer Order                 38860 non-null  object \n",
      " 3   Additional Features in market  34562 non-null  object \n",
      " 4   Promotion Name                 33034 non-null  object \n",
      " 5   Store Kind                     33053 non-null  object \n",
      " 6   Store Sales                    38847 non-null  object \n",
      " 7   Store Cost                     38855 non-null  object \n",
      " 8   Is Recyclable?                 38860 non-null  object \n",
      " 9   Yearly Income                  38854 non-null  object \n",
      " 10  Store Area                     35296 non-null  float64\n",
      " 11  Grocery Area                   35255 non-null  float64\n",
      " 12  Frozen Area                    35309 non-null  float64\n",
      " 13  Meat Area                      35313 non-null  float64\n",
      " 14  Cost                           38831 non-null  float64\n",
      " 15  Gross Weight                   35945 non-null  float64\n",
      " 16  Net Weight                     35969 non-null  float64\n",
      " 17  Package Weight                 35284 non-null  float64\n",
      "dtypes: float64(8), object(10)\n",
      "memory usage: 5.3+ MB\n"
     ]
    }
   ],
   "source": [
    "final = pd.read_csv(\"merged.csv\")\n",
    "final.columns = final.columns.str.replace('_', ' ')\n",
    "final.info()"
   ]
  },
  {
   "cell_type": "code",
   "execution_count": 3,
   "id": "fb9c17ee",
   "metadata": {
    "execution": {
     "iopub.execute_input": "2023-09-03T12:19:23.993625Z",
     "iopub.status.busy": "2023-09-03T12:19:23.992723Z",
     "iopub.status.idle": "2023-09-03T12:19:24.084576Z",
     "shell.execute_reply": "2023-09-03T12:19:24.083566Z"
    },
    "id": "ZF-sXkh48cP3",
    "outputId": "682d0992-04a6-499d-f3b4-1a2d50bf4077",
    "papermill": {
     "duration": 0.114711,
     "end_time": "2023-09-03T12:19:24.086973",
     "exception": false,
     "start_time": "2023-09-03T12:19:23.972262",
     "status": "completed"
    },
    "tags": []
   },
   "outputs": [
    {
     "data": {
      "text/plain": [
       "8"
      ]
     },
     "execution_count": 3,
     "metadata": {},
     "output_type": "execute_result"
    }
   ],
   "source": [
    "final.duplicated().sum()"
   ]
  },
  {
   "cell_type": "code",
   "execution_count": 4,
   "id": "3baf7275",
   "metadata": {
    "execution": {
     "iopub.execute_input": "2023-09-03T12:19:24.127543Z",
     "iopub.status.busy": "2023-09-03T12:19:24.126851Z",
     "iopub.status.idle": "2023-09-03T12:19:24.216534Z",
     "shell.execute_reply": "2023-09-03T12:19:24.215531Z"
    },
    "id": "7igYl3509PIX",
    "papermill": {
     "duration": 0.11376,
     "end_time": "2023-09-03T12:19:24.219058",
     "exception": false,
     "start_time": "2023-09-03T12:19:24.105298",
     "status": "completed"
    },
    "tags": []
   },
   "outputs": [],
   "source": [
    "final.drop_duplicates(inplace = True)"
   ]
  },
  {
   "cell_type": "code",
   "execution_count": 5,
   "id": "0119ee2f",
   "metadata": {
    "execution": {
     "iopub.execute_input": "2023-09-03T12:19:24.260490Z",
     "iopub.status.busy": "2023-09-03T12:19:24.259789Z",
     "iopub.status.idle": "2023-09-03T12:19:24.266345Z",
     "shell.execute_reply": "2023-09-03T12:19:24.265362Z"
    },
    "id": "GGKMEGjBLHxD",
    "outputId": "5df13ec3-246b-40d7-c49b-a3be18489368",
    "papermill": {
     "duration": 0.03065,
     "end_time": "2023-09-03T12:19:24.268843",
     "exception": false,
     "start_time": "2023-09-03T12:19:24.238193",
     "status": "completed"
    },
    "tags": []
   },
   "outputs": [
    {
     "data": {
      "text/plain": [
       "(38854, 18)"
      ]
     },
     "execution_count": 5,
     "metadata": {},
     "output_type": "execute_result"
    }
   ],
   "source": [
    "final.shape"
   ]
  },
  {
   "cell_type": "code",
   "execution_count": 6,
   "id": "a93720ab",
   "metadata": {
    "execution": {
     "iopub.execute_input": "2023-09-03T12:19:24.309310Z",
     "iopub.status.busy": "2023-09-03T12:19:24.308621Z",
     "iopub.status.idle": "2023-09-03T12:19:24.331713Z",
     "shell.execute_reply": "2023-09-03T12:19:24.330290Z"
    },
    "id": "-SMHj46BGbxZ",
    "outputId": "9ac75796-a000-45fe-f0f0-55f8abe17f5c",
    "papermill": {
     "duration": 0.046665,
     "end_time": "2023-09-03T12:19:24.334463",
     "exception": false,
     "start_time": "2023-09-03T12:19:24.287798",
     "status": "completed"
    },
    "tags": []
   },
   "outputs": [
    {
     "data": {
      "text/plain": [
       "(38823, 18)"
      ]
     },
     "execution_count": 6,
     "metadata": {},
     "output_type": "execute_result"
    }
   ],
   "source": [
    "final.dropna(subset = [\"Cost\"], inplace = True)\n",
    "final.shape"
   ]
  },
  {
   "cell_type": "code",
   "execution_count": 7,
   "id": "8ba34c08",
   "metadata": {
    "execution": {
     "iopub.execute_input": "2023-09-03T12:19:24.628752Z",
     "iopub.status.busy": "2023-09-03T12:19:24.627953Z",
     "iopub.status.idle": "2023-09-03T12:19:24.656627Z",
     "shell.execute_reply": "2023-09-03T12:19:24.655362Z"
    },
    "id": "IHHFOEHMKWLj",
    "outputId": "df73f3a8-d714-449a-e7c2-83e464f50d20",
    "papermill": {
     "duration": 0.050976,
     "end_time": "2023-09-03T12:19:24.659438",
     "exception": false,
     "start_time": "2023-09-03T12:19:24.608462",
     "status": "completed"
    },
    "tags": []
   },
   "outputs": [
    {
     "data": {
      "text/plain": [
       "Person Description                  0\n",
       "Place Code                          0\n",
       "Customer Order                      2\n",
       "Additional Features in market    4292\n",
       "Promotion Name                   5824\n",
       "Store Kind                       5807\n",
       "Store Sales                        15\n",
       "Store Cost                          7\n",
       "Is Recyclable?                      2\n",
       "Yearly Income                       7\n",
       "Store Area                       3564\n",
       "Grocery Area                     3603\n",
       "Frozen Area                      3547\n",
       "Meat Area                        3545\n",
       "Cost                                0\n",
       "Gross Weight                     2917\n",
       "Net Weight                       2891\n",
       "Package Weight                   3577\n",
       "dtype: int64"
      ]
     },
     "execution_count": 7,
     "metadata": {},
     "output_type": "execute_result"
    }
   ],
   "source": [
    "final.isna().sum()"
   ]
  },
  {
   "cell_type": "markdown",
   "id": "0ca5f652",
   "metadata": {},
   "source": [
    "### Choosing the features that might have the greatest effect on the model"
   ]
  },
  {
   "cell_type": "markdown",
   "id": "baec35cf",
   "metadata": {
    "id": "9BZWDDnwjZ-k",
    "papermill": {
     "duration": 0.01765,
     "end_time": "2023-09-03T12:19:24.746926",
     "exception": false,
     "start_time": "2023-09-03T12:19:24.729276",
     "status": "completed"
    },
    "tags": []
   },
   "source": [
    "# **Yearly Income**"
   ]
  },
  {
   "cell_type": "code",
   "execution_count": 8,
   "id": "32268ee0",
   "metadata": {
    "execution": {
     "iopub.execute_input": "2023-09-03T12:19:24.829902Z",
     "iopub.status.busy": "2023-09-03T12:19:24.829337Z",
     "iopub.status.idle": "2023-09-03T12:19:24.837818Z",
     "shell.execute_reply": "2023-09-03T12:19:24.836977Z"
    },
    "id": "_wR4zeeLkV3T",
    "outputId": "0ca441c1-3c83-42f7-f879-5ff4ba281772",
    "papermill": {
     "duration": 0.030844,
     "end_time": "2023-09-03T12:19:24.839827",
     "exception": false,
     "start_time": "2023-09-03T12:19:24.808983",
     "status": "completed"
    },
    "tags": []
   },
   "outputs": [
    {
     "data": {
      "text/plain": [
       "array(['10K+', '50K+', '30K+', '130K+', '70K+', '110K+', '90K+', '150K+',\n",
       "       nan], dtype=object)"
      ]
     },
     "execution_count": 8,
     "metadata": {},
     "output_type": "execute_result"
    }
   ],
   "source": [
    "final[\"Yearly Income\"].unique()"
   ]
  },
  {
   "cell_type": "code",
   "execution_count": 9,
   "id": "2ebd5320",
   "metadata": {
    "execution": {
     "iopub.execute_input": "2023-09-03T12:19:24.878781Z",
     "iopub.status.busy": "2023-09-03T12:19:24.877491Z",
     "iopub.status.idle": "2023-09-03T12:19:24.887390Z",
     "shell.execute_reply": "2023-09-03T12:19:24.886364Z"
    },
    "id": "xG_qCSmelUIC",
    "outputId": "891f124f-fa97-4d8a-e648-5841d4e9e5c0",
    "papermill": {
     "duration": 0.031887,
     "end_time": "2023-09-03T12:19:24.889837",
     "exception": false,
     "start_time": "2023-09-03T12:19:24.857950",
     "status": "completed"
    },
    "tags": []
   },
   "outputs": [
    {
     "data": {
      "text/plain": [
       "30K+     12460\n",
       "10K+      8363\n",
       "50K+      6745\n",
       "70K+      4818\n",
       "130K+     2167\n",
       "90K+      1782\n",
       "110K+     1684\n",
       "150K+      797\n",
       "Name: Yearly Income, dtype: int64"
      ]
     },
     "execution_count": 9,
     "metadata": {},
     "output_type": "execute_result"
    }
   ],
   "source": [
    "final[\"Yearly Income\"].value_counts()"
   ]
  },
  {
   "cell_type": "code",
   "execution_count": 10,
   "id": "0145c65d",
   "metadata": {
    "execution": {
     "iopub.execute_input": "2023-09-03T12:19:24.929115Z",
     "iopub.status.busy": "2023-09-03T12:19:24.928735Z",
     "iopub.status.idle": "2023-09-03T12:19:24.937985Z",
     "shell.execute_reply": "2023-09-03T12:19:24.936863Z"
    },
    "id": "qNKMtnt6kF_4",
    "outputId": "cb260876-4c41-4796-eb72-971250791d2e",
    "papermill": {
     "duration": 0.031295,
     "end_time": "2023-09-03T12:19:24.940182",
     "exception": false,
     "start_time": "2023-09-03T12:19:24.908887",
     "status": "completed"
    },
    "tags": []
   },
   "outputs": [
    {
     "data": {
      "text/plain": [
       "7"
      ]
     },
     "execution_count": 10,
     "metadata": {},
     "output_type": "execute_result"
    }
   ],
   "source": [
    "final[\"Yearly Income\"].isna().sum()"
   ]
  },
  {
   "cell_type": "code",
   "execution_count": 11,
   "id": "6933fd32",
   "metadata": {
    "execution": {
     "iopub.execute_input": "2023-09-03T12:19:24.979110Z",
     "iopub.status.busy": "2023-09-03T12:19:24.978679Z",
     "iopub.status.idle": "2023-09-03T12:19:25.788124Z",
     "shell.execute_reply": "2023-09-03T12:19:25.787044Z"
    },
    "id": "xVR8etmLlvQN",
    "outputId": "30f24168-b767-453c-b8f6-06a8c4c3f938",
    "papermill": {
     "duration": 0.83212,
     "end_time": "2023-09-03T12:19:25.790562",
     "exception": false,
     "start_time": "2023-09-03T12:19:24.958442",
     "status": "completed"
    },
    "tags": []
   },
   "outputs": [
    {
     "data": {
      "text/plain": [
       "<Axes: xlabel='Yearly Income', ylabel='Cost'>"
      ]
     },
     "execution_count": 11,
     "metadata": {},
     "output_type": "execute_result"
    },
    {
     "data": {
      "image/png": "[encoded data removed]",
      "text/plain": [
       "<Figure size 640x480 with 1 Axes>"
      ]
     },
     "metadata": {},
     "output_type": "display_data"
    }
   ],
   "source": [
    "sns.barplot(data = final, x = \"Yearly Income\", y = \"Cost\")"
   ]
  },
  {
   "cell_type": "code",
   "execution_count": 12,
   "id": "18e0dd37",
   "metadata": {
    "execution": {
     "iopub.execute_input": "2023-09-03T12:19:25.831629Z",
     "iopub.status.busy": "2023-09-03T12:19:25.831083Z",
     "iopub.status.idle": "2023-09-03T12:19:25.836243Z",
     "shell.execute_reply": "2023-09-03T12:19:25.834979Z"
    },
    "id": "fy2AfYRej7mk",
    "papermill": {
     "duration": 0.02935,
     "end_time": "2023-09-03T12:19:25.838748",
     "exception": false,
     "start_time": "2023-09-03T12:19:25.809398",
     "status": "completed"
    },
    "tags": []
   },
   "outputs": [],
   "source": [
    "income_pipeline = Pipeline([\n",
    "    (\"imputer\", SimpleImputer(strategy = \"most_frequent\")),\n",
    "    (\"end\", OrdinalEncoder()),\n",
    "])"
   ]
  },
  {
   "cell_type": "markdown",
   "id": "f9c71609",
   "metadata": {
    "id": "LwaAtdX_-ETh",
    "papermill": {
     "duration": 0.022396,
     "end_time": "2023-09-03T12:19:25.880498",
     "exception": false,
     "start_time": "2023-09-03T12:19:25.858102",
     "status": "completed"
    },
    "tags": []
   },
   "source": [
    "# **Promotion Name**"
   ]
  },
  {
   "cell_type": "code",
   "execution_count": 13,
   "id": "3f4b66de",
   "metadata": {
    "execution": {
     "iopub.execute_input": "2023-09-03T12:19:25.973236Z",
     "iopub.status.busy": "2023-09-03T12:19:25.972822Z",
     "iopub.status.idle": "2023-09-03T12:19:25.983266Z",
     "shell.execute_reply": "2023-09-03T12:19:25.981750Z"
    },
    "id": "lnzNpW3Z-KyR",
    "outputId": "2f0b21ea-f4af-4775-c9a9-34eff077ff0b",
    "papermill": {
     "duration": 0.0358,
     "end_time": "2023-09-03T12:19:25.986139",
     "exception": false,
     "start_time": "2023-09-03T12:19:25.950339",
     "status": "completed"
    },
    "tags": []
   },
   "outputs": [
    {
     "data": {
      "text/plain": [
       "5824"
      ]
     },
     "execution_count": 13,
     "metadata": {},
     "output_type": "execute_result"
    }
   ],
   "source": [
    "final[\"Promotion Name\"].isna().sum()"
   ]
  },
  {
   "cell_type": "code",
   "execution_count": 14,
   "id": "6ad7204a",
   "metadata": {
    "execution": {
     "iopub.execute_input": "2023-09-03T12:19:26.033026Z",
     "iopub.status.busy": "2023-09-03T12:19:26.032495Z",
     "iopub.status.idle": "2023-09-03T12:19:26.041503Z",
     "shell.execute_reply": "2023-09-03T12:19:26.040318Z"
    },
    "id": "2i8IPh8lE1HB",
    "outputId": "4f6d0026-0f41-4836-b57e-e8adc434861e",
    "papermill": {
     "duration": 0.036502,
     "end_time": "2023-09-03T12:19:26.044307",
     "exception": false,
     "start_time": "2023-09-03T12:19:26.007805",
     "status": "completed"
    },
    "tags": []
   },
   "outputs": [
    {
     "data": {
      "text/plain": [
       "49"
      ]
     },
     "execution_count": 14,
     "metadata": {},
     "output_type": "execute_result"
    }
   ],
   "source": [
    "final[\"Promotion Name\"].nunique()"
   ]
  },
  {
   "cell_type": "code",
   "execution_count": 15,
   "id": "899bb463",
   "metadata": {
    "execution": {
     "iopub.execute_input": "2023-09-03T12:19:26.089117Z",
     "iopub.status.busy": "2023-09-03T12:19:26.088715Z",
     "iopub.status.idle": "2023-09-03T12:19:26.099150Z",
     "shell.execute_reply": "2023-09-03T12:19:26.097918Z"
    },
    "id": "f-2wWeFB-XId",
    "outputId": "49694051-d955-4fc7-d1ee-cea544c2f16b",
    "papermill": {
     "duration": 0.036816,
     "end_time": "2023-09-03T12:19:26.101974",
     "exception": false,
     "start_time": "2023-09-03T12:19:26.065158",
     "status": "completed"
    },
    "tags": []
   },
   "outputs": [
    {
     "data": {
      "text/plain": [
       "array(['Dimes Off', 'Budget Bargains', 'Shelf Emptiers', 'Savings Galore',\n",
       "       'Sale Winners', 'Weekend Discount', 'Price Winners',\n",
       "       'Shelf Clearing Days', 'Big Time Discounts',\n",
       "       'Lottery Cash Registerion', 'Pick Your Savings', nan,\n",
       "       'Super Savers', 'Two Day Sale', 'Sale Sale Sale', 'Wallet Savers',\n",
       "       'Money Savers', 'Save Price', 'Best Savings', 'Big Time Saving',\n",
       "       'Bag Stuffer', 'Save It (Sale)', 'Dollar Days', 'Discount Frenzy',\n",
       "       'Sales Days', 'Sale : Double Down', 'Coupon Spectacular',\n",
       "       'Three for One', 'Super Duper Savers', 'GLD', 'Go For It',\n",
       "       'Mystery Sale', 'One Day Sale', 'I Cant Believe It Sale',\n",
       "       'You Save Days', 'Double Your Savings', 'Full Free', 'Saving Days',\n",
       "       'Roller Savings (High) ', 'Green Light Special', 'Price Slashers',\n",
       "       'Price Cutters', 'Two for One', 'Promo Big', 'Price Destroyers',\n",
       "       'Tip Top Savings', 'Best Price Savers', 'Super Wallet Savers',\n",
       "       'Price Smashers', 'Fantastic Discounts'], dtype=object)"
      ]
     },
     "execution_count": 15,
     "metadata": {},
     "output_type": "execute_result"
    }
   ],
   "source": [
    "final[\"Promotion Name\"].unique()"
   ]
  },
  {
   "cell_type": "code",
   "execution_count": 16,
   "id": "ad7ecc90",
   "metadata": {
    "execution": {
     "iopub.execute_input": "2023-09-03T12:19:26.203059Z",
     "iopub.status.busy": "2023-09-03T12:19:26.202658Z",
     "iopub.status.idle": "2023-09-03T12:19:26.208006Z",
     "shell.execute_reply": "2023-09-03T12:19:26.207065Z"
    },
    "id": "yQu0sJMI_apX",
    "papermill": {
     "duration": 0.030285,
     "end_time": "2023-09-03T12:19:26.210642",
     "exception": false,
     "start_time": "2023-09-03T12:19:26.180357",
     "status": "completed"
    },
    "scrolled": true,
    "tags": []
   },
   "outputs": [],
   "source": [
    "promotion_pipeline = Pipeline([\n",
    "    (\"imp\", SimpleImputer(strategy = \"most_frequent\")),\n",
    "    (\"encoder\", OrdinalEncoder()),\n",
    "])"
   ]
  },
  {
   "cell_type": "markdown",
   "id": "1ae36455",
   "metadata": {
    "id": "WUOEsqZnLgAU",
    "papermill": {
     "duration": 0.020552,
     "end_time": "2023-09-03T12:19:26.251251",
     "exception": false,
     "start_time": "2023-09-03T12:19:26.230699",
     "status": "completed"
    },
    "tags": []
   },
   "source": [
    "# **Place Code**"
   ]
  },
  {
   "cell_type": "code",
   "execution_count": 17,
   "id": "699f9d8a",
   "metadata": {
    "execution": {
     "iopub.execute_input": "2023-09-03T12:19:26.358138Z",
     "iopub.status.busy": "2023-09-03T12:19:26.357757Z",
     "iopub.status.idle": "2023-09-03T12:19:26.367454Z",
     "shell.execute_reply": "2023-09-03T12:19:26.366566Z"
    },
    "id": "ww_QfDRaLiv6",
    "outputId": "6f066a2e-8f6e-4284-cb0d-32fabaa02327",
    "papermill": {
     "duration": 0.040388,
     "end_time": "2023-09-03T12:19:26.369677",
     "exception": false,
     "start_time": "2023-09-03T12:19:26.329289",
     "status": "completed"
    },
    "tags": []
   },
   "outputs": [
    {
     "data": {
      "text/plain": [
       "array(['H11go_ZA', 'S04ne_WA', 'L05es_CA', 'S03le_WA', 'M10da_YU',\n",
       "       'A17co_GU', 'O09ba_VE', 'S01em_OR', 'P07nd_OR', 'B06ls_CA',\n",
       "       'T02ma_WA', 'V19ia_BC', 'G16ra_JA', 'B14on_WA', 'C15ho_ZA',\n",
       "       'V13er_BC', 'M12ty_DF', 'B08am_WA', 'S18co_CA'], dtype=object)"
      ]
     },
     "execution_count": 17,
     "metadata": {},
     "output_type": "execute_result"
    }
   ],
   "source": [
    "final[\"Place Code\"].unique()"
   ]
  },
  {
   "cell_type": "code",
   "execution_count": 18,
   "id": "ad21f614",
   "metadata": {
    "execution": {
     "iopub.execute_input": "2023-09-03T12:19:26.421448Z",
     "iopub.status.busy": "2023-09-03T12:19:26.420966Z",
     "iopub.status.idle": "2023-09-03T12:19:26.451210Z",
     "shell.execute_reply": "2023-09-03T12:19:26.450394Z"
    },
    "id": "279WaSOZxjUf",
    "outputId": "1126a627-399a-4605-f045-ffbf1d8aae65",
    "papermill": {
     "duration": 0.059181,
     "end_time": "2023-09-03T12:19:26.453881",
     "exception": false,
     "start_time": "2023-09-03T12:19:26.394700",
     "status": "completed"
    },
    "tags": []
   },
   "outputs": [
    {
     "data": {
      "text/plain": [
       "19"
      ]
     },
     "execution_count": 18,
     "metadata": {},
     "output_type": "execute_result"
    }
   ],
   "source": [
    "len(final.sort_values(\"Cost\")[\"Place Code\"].unique())"
   ]
  },
  {
   "cell_type": "code",
   "execution_count": 19,
   "id": "952f08e6",
   "metadata": {
    "execution": {
     "iopub.execute_input": "2023-09-03T12:19:26.499982Z",
     "iopub.status.busy": "2023-09-03T12:19:26.499562Z",
     "iopub.status.idle": "2023-09-03T12:19:26.510091Z",
     "shell.execute_reply": "2023-09-03T12:19:26.509060Z"
    },
    "id": "QTAp6TPb83Nn",
    "outputId": "1c6c3cd4-9762-4aee-ccdd-81e528cfd75a",
    "papermill": {
     "duration": 0.034357,
     "end_time": "2023-09-03T12:19:26.512143",
     "exception": false,
     "start_time": "2023-09-03T12:19:26.477786",
     "status": "completed"
    },
    "tags": []
   },
   "outputs": [
    {
     "data": {
      "text/plain": [
       "T02ma_WA    3655\n",
       "S01em_OR    3533\n",
       "P07nd_OR    3280\n",
       "S03le_WA    3241\n",
       "H11go_ZA    3029\n",
       "M10da_YU    2923\n",
       "S04ne_WA    2876\n",
       "B06ls_CA    2692\n",
       "L05es_CA    2586\n",
       "B14on_WA    2197\n",
       "V13er_BC    2173\n",
       "O09ba_VE    1660\n",
       "C15ho_ZA    1495\n",
       "A17co_GU     999\n",
       "M12ty_DF     879\n",
       "S18co_CA     496\n",
       "B08am_WA     472\n",
       "V19ia_BC     355\n",
       "G16ra_JA     282\n",
       "Name: Place Code, dtype: int64"
      ]
     },
     "execution_count": 19,
     "metadata": {},
     "output_type": "execute_result"
    }
   ],
   "source": [
    "final[\"Place Code\"].value_counts()"
   ]
  },
  {
   "cell_type": "code",
   "execution_count": 20,
   "id": "3b32eef1",
   "metadata": {
    "execution": {
     "iopub.execute_input": "2023-09-03T12:19:26.554327Z",
     "iopub.status.busy": "2023-09-03T12:19:26.553485Z",
     "iopub.status.idle": "2023-09-03T12:19:27.985913Z",
     "shell.execute_reply": "2023-09-03T12:19:27.984792Z"
    },
    "id": "L6PXwSaUwqrw",
    "outputId": "5b554417-7014-4b8d-f9e5-c18dc97b5ee4",
    "papermill": {
     "duration": 1.455982,
     "end_time": "2023-09-03T12:19:27.988624",
     "exception": false,
     "start_time": "2023-09-03T12:19:26.532642",
     "status": "completed"
    },
    "tags": []
   },
   "outputs": [
    {
     "data": {
      "text/plain": [
       "<Axes: xlabel='Place Code', ylabel='Cost'>"
      ]
     },
     "execution_count": 20,
     "metadata": {},
     "output_type": "execute_result"
    },
    {
     "data": {
      "image/png": "[encoded data removed]",
      "text/plain": [
       "<Figure size 3000x1500 with 1 Axes>"
      ]
     },
     "metadata": {},
     "output_type": "display_data"
    }
   ],
   "source": [
    "fig, ax = plt.subplots(1, 1, figsize = (30, 15))\n",
    "sns.barplot(data = final, x = \"Place Code\", y = \"Cost\", ax = ax, order = final.sort_values(\"Cost\")[\"Place Code\"].unique())"
   ]
  },
  {
   "cell_type": "code",
   "execution_count": 21,
   "id": "6cc1f2d6",
   "metadata": {
    "execution": {
     "iopub.execute_input": "2023-09-03T12:19:28.034072Z",
     "iopub.status.busy": "2023-09-03T12:19:28.033708Z",
     "iopub.status.idle": "2023-09-03T12:19:28.041904Z",
     "shell.execute_reply": "2023-09-03T12:19:28.040948Z"
    },
    "id": "xEAjLa-UNBVK",
    "outputId": "fa27c63f-5e69-44fa-b027-628a2a10f6ae",
    "papermill": {
     "duration": 0.034066,
     "end_time": "2023-09-03T12:19:28.043985",
     "exception": false,
     "start_time": "2023-09-03T12:19:28.009919",
     "status": "completed"
    },
    "tags": []
   },
   "outputs": [
    {
     "data": {
      "text/plain": [
       "19"
      ]
     },
     "execution_count": 21,
     "metadata": {},
     "output_type": "execute_result"
    }
   ],
   "source": [
    "final[\"Place Code\"].nunique()"
   ]
  },
  {
   "cell_type": "code",
   "execution_count": 22,
   "id": "a1a53bf1",
   "metadata": {
    "execution": {
     "iopub.execute_input": "2023-09-03T12:19:28.088680Z",
     "iopub.status.busy": "2023-09-03T12:19:28.088213Z",
     "iopub.status.idle": "2023-09-03T12:19:28.102628Z",
     "shell.execute_reply": "2023-09-03T12:19:28.101365Z"
    },
    "id": "xhqdMT0PLo1_",
    "outputId": "f10f7fd7-0e11-4f09-e3ba-ba4680207283",
    "papermill": {
     "duration": 0.040052,
     "end_time": "2023-09-03T12:19:28.105297",
     "exception": false,
     "start_time": "2023-09-03T12:19:28.065245",
     "status": "completed"
    },
    "tags": []
   },
   "outputs": [
    {
     "data": {
      "text/plain": [
       "Place Code\n",
       "S01em_OR    440.139243\n",
       "M10da_YU    468.812494\n",
       "S04ne_WA    498.264919\n",
       "V19ia_BC    503.815623\n",
       "A17co_GU    508.779688\n",
       "B14on_WA    516.257966\n",
       "T02ma_WA    518.518126\n",
       "O09ba_VE    524.872718\n",
       "L05es_CA    528.229818\n",
       "B06ls_CA    530.696027\n",
       "V13er_BC    530.744732\n",
       "S03le_WA    538.980982\n",
       "S18co_CA    541.586323\n",
       "H11go_ZA    546.042164\n",
       "B08am_WA    547.052017\n",
       "P07nd_OR    551.384773\n",
       "G16ra_JA    557.196967\n",
       "C15ho_ZA    558.266257\n",
       "M12ty_DF    610.195167\n",
       "Name: Cost, dtype: float64"
      ]
     },
     "execution_count": 22,
     "metadata": {},
     "output_type": "execute_result"
    }
   ],
   "source": [
    "final.groupby(\"Place Code\")[\"Cost\"].mean().sort_values()"
   ]
  },
  {
   "cell_type": "code",
   "execution_count": 23,
   "id": "d0dead22",
   "metadata": {
    "execution": {
     "iopub.execute_input": "2023-09-03T12:19:28.150575Z",
     "iopub.status.busy": "2023-09-03T12:19:28.149851Z",
     "iopub.status.idle": "2023-09-03T12:19:28.157741Z",
     "shell.execute_reply": "2023-09-03T12:19:28.156595Z"
    },
    "id": "78Q3QKJVLsD5",
    "outputId": "dadf6ba6-2548-42c7-f5e8-3c6b5cc610b4",
    "papermill": {
     "duration": 0.032221,
     "end_time": "2023-09-03T12:19:28.160029",
     "exception": false,
     "start_time": "2023-09-03T12:19:28.127808",
     "status": "completed"
    },
    "tags": []
   },
   "outputs": [
    {
     "data": {
      "text/plain": [
       "0"
      ]
     },
     "execution_count": 23,
     "metadata": {},
     "output_type": "execute_result"
    }
   ],
   "source": [
    "final[\"Place Code\"].isna().sum()"
   ]
  },
  {
   "cell_type": "code",
   "execution_count": 24,
   "id": "c677fb97",
   "metadata": {
    "execution": {
     "iopub.execute_input": "2023-09-03T12:19:28.203363Z",
     "iopub.status.busy": "2023-09-03T12:19:28.202915Z",
     "iopub.status.idle": "2023-09-03T12:19:28.208567Z",
     "shell.execute_reply": "2023-09-03T12:19:28.207312Z"
    },
    "id": "AMROVtfeL3D1",
    "papermill": {
     "duration": 0.03045,
     "end_time": "2023-09-03T12:19:28.211038",
     "exception": false,
     "start_time": "2023-09-03T12:19:28.180588",
     "status": "completed"
    },
    "tags": []
   },
   "outputs": [],
   "source": [
    "place_code_pipeline = Pipeline([\n",
    "    (\"end\", OneHotEncoder())\n",
    "])"
   ]
  },
  {
   "cell_type": "markdown",
   "id": "dc1fa505",
   "metadata": {
    "id": "JyiApYQ9Mx09",
    "papermill": {
     "duration": 0.02138,
     "end_time": "2023-09-03T12:19:28.253626",
     "exception": false,
     "start_time": "2023-09-03T12:19:28.232246",
     "status": "completed"
    },
    "tags": []
   },
   "source": [
    "# **Person Description**"
   ]
  },
  {
   "cell_type": "code",
   "execution_count": 25,
   "id": "a3cd94ed",
   "metadata": {
    "execution": {
     "iopub.execute_input": "2023-09-03T12:19:28.351867Z",
     "iopub.status.busy": "2023-09-03T12:19:28.350538Z",
     "iopub.status.idle": "2023-09-03T12:19:28.362474Z",
     "shell.execute_reply": "2023-09-03T12:19:28.361684Z"
    },
    "id": "nuOsVMFoM2yT",
    "outputId": "20ac1ca5-844b-4b9b-d65f-86ddfe0a0d2f",
    "papermill": {
     "duration": 0.039097,
     "end_time": "2023-09-03T12:19:28.364960",
     "exception": false,
     "start_time": "2023-09-03T12:19:28.325863",
     "status": "completed"
    },
    "tags": []
   },
   "outputs": [
    {
     "data": {
      "text/plain": [
       "395"
      ]
     },
     "execution_count": 25,
     "metadata": {},
     "output_type": "execute_result"
    }
   ],
   "source": [
    "final[\"Person Description\"].nunique()"
   ]
  },
  {
   "cell_type": "code",
   "execution_count": 26,
   "id": "4ffdca06",
   "metadata": {
    "execution": {
     "iopub.execute_input": "2023-09-03T12:19:28.411648Z",
     "iopub.status.busy": "2023-09-03T12:19:28.411237Z",
     "iopub.status.idle": "2023-09-03T12:19:28.421198Z",
     "shell.execute_reply": "2023-09-03T12:19:28.419994Z"
    },
    "id": "jl7rG7L8p5QJ",
    "outputId": "fe7226b5-160a-4cfa-9501-fa8c83cc045a",
    "papermill": {
     "duration": 0.034901,
     "end_time": "2023-09-03T12:19:28.423406",
     "exception": false,
     "start_time": "2023-09-03T12:19:28.388505",
     "status": "completed"
    },
    "tags": []
   },
   "outputs": [
    {
     "data": {
      "text/plain": [
       "0"
      ]
     },
     "execution_count": 26,
     "metadata": {},
     "output_type": "execute_result"
    }
   ],
   "source": [
    "final[\"Person Description\"].isna().sum()"
   ]
  },
  {
   "cell_type": "code",
   "execution_count": 27,
   "id": "39f93f87",
   "metadata": {
    "execution": {
     "iopub.execute_input": "2023-09-03T12:19:28.467903Z",
     "iopub.status.busy": "2023-09-03T12:19:28.467178Z",
     "iopub.status.idle": "2023-09-03T12:19:28.479062Z",
     "shell.execute_reply": "2023-09-03T12:19:28.477988Z"
    },
    "id": "rdKNPawCNCR7",
    "outputId": "905504e5-99f4-41e1-d568-f04da7d25864",
    "papermill": {
     "duration": 0.036845,
     "end_time": "2023-09-03T12:19:28.481413",
     "exception": false,
     "start_time": "2023-09-03T12:19:28.444568",
     "status": "completed"
    },
    "tags": []
   },
   "outputs": [
    {
     "data": {
      "text/plain": [
       "array(['Single Female with four children, education: bachelors degree working as professional',\n",
       "       'Single Female with three children, education: bachelors degree working as management',\n",
       "       'Married Male with two children, education: high school degree working as skilled manual',\n",
       "       'Single Female with three children, education: partial college working as professional',\n",
       "       'Married Female with five children, education: bachelors degree working as professional',\n",
       "       'Single Male with four children, education: high school degree working as manual',\n",
       "       'Married Female with five children, education: high school degree working as professional',\n",
       "       'Married Male with four children, education: partial high school working as skilled manual',\n",
       "       'Married Male with five children, education: high school degree working as skilled manual',\n",
       "       'Single Male with one child, education: high school degree working as manual'],\n",
       "      dtype=object)"
      ]
     },
     "execution_count": 27,
     "metadata": {},
     "output_type": "execute_result"
    }
   ],
   "source": [
    "final[\"Person Description\"].unique()[:10]"
   ]
  },
  {
   "cell_type": "code",
   "execution_count": 28,
   "id": "1d093d1f",
   "metadata": {},
   "outputs": [],
   "source": [
    "class InfoExtractor(BaseEstimator, TransformerMixin):\n",
    "    def __init__(self):\n",
    "        self.children = {\n",
    "            \"no\": 0,\"one\": 1,\n",
    "            \"two\": 2,\"three\": 3,\n",
    "            \"four\": 4,\"five\": 5,\n",
    "        }\n",
    "        self.pro = {\n",
    "            \"clerical\": 5,\n",
    "            \"management\": 4,\n",
    "            \"skilled manual\": 3,\n",
    "            \"professional\": 2,\n",
    "            \"manual\": 1\n",
    "        }\n",
    "        self.martial_status = {\n",
    "            \"Married\": 1, \"Single\":0\n",
    "        }\n",
    "        self.gender = {\n",
    "            \"Female\":0, \"Male\":1\n",
    "        }\n",
    "    def fit(self, X):\n",
    "        return self\n",
    "    def transform(self, X):\n",
    "        X[\"martial_status\"] = X[\"Person Description\"].str.extract('(.*?) [\"Male\", \"Female\"]')\n",
    "        X[\"gender\"] = X[\"Person Description\"].str.extract('[\"Single\", \"Married\"] (.*?) with')\n",
    "        X[\"no_children\"] = X[\"Person Description\"].str.extract('with (.*?) [\"children,\", \"child,\"]')\n",
    "        X[\"education\"] = X[\"Person Description\"].str.extract('education: (.*?) working')\n",
    "        X[\"proficiency\"] = X[\"Person Description\"].str.extract('as (.*?)$')\n",
    "        \n",
    "        X[\"martial_status\"] = X[\"martial_status\"].apply(lambda x : self.martial_status.get(x, 0))\n",
    "        X[\"gender\"] = X[\"gender\"].apply(lambda x : self.gender.get(x, 0))\n",
    "        X[\"no_children\"] = X[\"no_children\"].apply(lambda x : self.children.get(x, 0))\n",
    "        X[\"proficiency\"] = X[\"proficiency\"].apply(lambda x : self.pro.get(x, 0))\n",
    "        \n",
    "        X.drop(\"Person Description\", axis = 1, inplace = True)\n",
    "        return X"
   ]
  },
  {
   "cell_type": "code",
   "execution_count": 29,
   "id": "388b71f2",
   "metadata": {
    "execution": {
     "iopub.execute_input": "2023-09-03T12:19:28.587500Z",
     "iopub.status.busy": "2023-09-03T12:19:28.586568Z",
     "iopub.status.idle": "2023-09-03T12:19:28.592568Z",
     "shell.execute_reply": "2023-09-03T12:19:28.591644Z"
    },
    "id": "lZMi4kL_SxsX",
    "papermill": {
     "duration": 0.032968,
     "end_time": "2023-09-03T12:19:28.595263",
     "exception": false,
     "start_time": "2023-09-03T12:19:28.562295",
     "status": "completed"
    },
    "tags": []
   },
   "outputs": [],
   "source": [
    "person_desc_pipeline = Pipeline([\n",
    "    (\"extractor\", InfoExtractor()),\n",
    "    (\"enc\", OrdinalEncoder())\n",
    "])\n"
   ]
  },
  {
   "cell_type": "markdown",
   "id": "386e1df1",
   "metadata": {},
   "source": [
    "##### **Customer Order (Despite it might seem promising but really has a negative effect on the model so we only deleted nan values)**"
   ]
  },
  {
   "cell_type": "code",
   "execution_count": 30,
   "id": "7afc85ce",
   "metadata": {},
   "outputs": [
    {
     "data": {
      "text/plain": [
       "271"
      ]
     },
     "execution_count": 30,
     "metadata": {},
     "output_type": "execute_result"
    }
   ],
   "source": [
    "final[\"Customer Order\"].nunique()"
   ]
  },
  {
   "cell_type": "code",
   "execution_count": 31,
   "id": "2dfaf54b",
   "metadata": {},
   "outputs": [
    {
     "data": {
      "text/plain": [
       "2"
      ]
     },
     "execution_count": 31,
     "metadata": {},
     "output_type": "execute_result"
    }
   ],
   "source": [
    "final[\"Customer Order\"].isna().sum()"
   ]
  },
  {
   "cell_type": "code",
   "execution_count": 32,
   "id": "76b473c1",
   "metadata": {},
   "outputs": [
    {
     "name": "stdout",
     "output_type": "stream",
     "text": [
      "Number of values with Cost but no Order: 2\n"
     ]
    }
   ],
   "source": [
    "cost_has_value = final['Cost'].notna()  \n",
    "order_has_value = final['Customer Order'].notna()  \n",
    "\n",
    "num_missing_order = cost_has_value & ~order_has_value \n",
    "count = num_missing_order.sum()\n",
    "\n",
    "print(f\"Number of values with Cost but no Order: {count}\")"
   ]
  },
  {
   "cell_type": "code",
   "execution_count": 33,
   "id": "409985be",
   "metadata": {},
   "outputs": [],
   "source": [
    "final.dropna(subset = [\"Customer Order\"], inplace = True)"
   ]
  },
  {
   "cell_type": "markdown",
   "id": "1e98a567",
   "metadata": {
    "id": "su10CpHOD0Oj",
    "papermill": {
     "duration": 0.021239,
     "end_time": "2023-09-03T12:19:28.638594",
     "exception": false,
     "start_time": "2023-09-03T12:19:28.617355",
     "status": "completed"
    },
    "tags": []
   },
   "source": [
    "# **Final pipeline**"
   ]
  },
  {
   "cell_type": "code",
   "execution_count": 34,
   "id": "d08d86b5",
   "metadata": {},
   "outputs": [
    {
     "data": {
      "text/html": [
       "<div>\n",
       "<style scoped>\n",
       "    .dataframe tbody tr th:only-of-type {\n",
       "        vertical-align: middle;\n",
       "    }\n",
       "\n",
       "    .dataframe tbody tr th {\n",
       "        vertical-align: top;\n",
       "    }\n",
       "\n",
       "    .dataframe thead th {\n",
       "        text-align: right;\n",
       "    }\n",
       "</style>\n",
       "<table border=\"1\" class=\"dataframe\">\n",
       "  <thead>\n",
       "    <tr style=\"text-align: right;\">\n",
       "      <th></th>\n",
       "      <th>Person Description</th>\n",
       "      <th>Place Code</th>\n",
       "      <th>Customer Order</th>\n",
       "      <th>Additional Features in market</th>\n",
       "      <th>Promotion Name</th>\n",
       "      <th>Store Kind</th>\n",
       "      <th>Store Sales</th>\n",
       "      <th>Store Cost</th>\n",
       "      <th>Is Recyclable?</th>\n",
       "      <th>Yearly Income</th>\n",
       "      <th>Store Area</th>\n",
       "      <th>Grocery Area</th>\n",
       "      <th>Frozen Area</th>\n",
       "      <th>Meat Area</th>\n",
       "      <th>Cost</th>\n",
       "      <th>Gross Weight</th>\n",
       "      <th>Net Weight</th>\n",
       "      <th>Package Weight</th>\n",
       "    </tr>\n",
       "  </thead>\n",
       "  <tbody>\n",
       "    <tr>\n",
       "      <th>0</th>\n",
       "      <td>Single Female with four children, education: b...</td>\n",
       "      <td>H11go_ZA</td>\n",
       "      <td>Cleaning Supplies from Household department, O...</td>\n",
       "      <td>['Video Store', 'Florist', 'Ready Food', 'Coff...</td>\n",
       "      <td>Dimes Off</td>\n",
       "      <td>Deluxe</td>\n",
       "      <td>8.76 Millions</td>\n",
       "      <td>4.2924 Millions</td>\n",
       "      <td>recyclable</td>\n",
       "      <td>10K+</td>\n",
       "      <td>2842.23</td>\n",
       "      <td>2037.64</td>\n",
       "      <td>481.98</td>\n",
       "      <td>323.0</td>\n",
       "      <td>602.7575</td>\n",
       "      <td>28.1997</td>\n",
       "      <td>26.6008</td>\n",
       "      <td>1.599</td>\n",
       "    </tr>\n",
       "    <tr>\n",
       "      <th>1</th>\n",
       "      <td>Single Female with three children, education: ...</td>\n",
       "      <td>S04ne_WA</td>\n",
       "      <td>Snack Foods from Snack Foods department, Order...</td>\n",
       "      <td>NaN</td>\n",
       "      <td>Budget Bargains</td>\n",
       "      <td>Supermarket</td>\n",
       "      <td>6.36 Millions</td>\n",
       "      <td>1.9716 Millions</td>\n",
       "      <td>non recyclable</td>\n",
       "      <td>50K+</td>\n",
       "      <td>2814.95</td>\n",
       "      <td>2049.72</td>\n",
       "      <td>457.36</td>\n",
       "      <td>NaN</td>\n",
       "      <td>708.6650</td>\n",
       "      <td>16.5710</td>\n",
       "      <td>14.9720</td>\n",
       "      <td>1.599</td>\n",
       "    </tr>\n",
       "  </tbody>\n",
       "</table>\n",
       "</div>"
      ],
      "text/plain": [
       "                                  Person Description Place Code  \\\n",
       "0  Single Female with four children, education: b...   H11go_ZA   \n",
       "1  Single Female with three children, education: ...   S04ne_WA   \n",
       "\n",
       "                                      Customer Order  \\\n",
       "0  Cleaning Supplies from Household department, O...   \n",
       "1  Snack Foods from Snack Foods department, Order...   \n",
       "\n",
       "                       Additional Features in market   Promotion Name  \\\n",
       "0  ['Video Store', 'Florist', 'Ready Food', 'Coff...        Dimes Off   \n",
       "1                                                NaN  Budget Bargains   \n",
       "\n",
       "    Store Kind    Store Sales       Store Cost  Is Recyclable? Yearly Income  \\\n",
       "0       Deluxe  8.76 Millions  4.2924 Millions      recyclable          10K+   \n",
       "1  Supermarket  6.36 Millions  1.9716 Millions  non recyclable          50K+   \n",
       "\n",
       "   Store Area  Grocery Area  Frozen Area  Meat Area      Cost  Gross Weight  \\\n",
       "0     2842.23       2037.64       481.98      323.0  602.7575       28.1997   \n",
       "1     2814.95       2049.72       457.36        NaN  708.6650       16.5710   \n",
       "\n",
       "   Net Weight  Package Weight  \n",
       "0     26.6008           1.599  \n",
       "1     14.9720           1.599  "
      ]
     },
     "execution_count": 34,
     "metadata": {},
     "output_type": "execute_result"
    }
   ],
   "source": [
    "final.head(2)"
   ]
  },
  {
   "cell_type": "code",
   "execution_count": 35,
   "id": "4333f57f",
   "metadata": {},
   "outputs": [],
   "source": [
    "train, test = train_test_split(final, test_size = 0.2, random_state = 42)"
   ]
  },
  {
   "cell_type": "code",
   "execution_count": 36,
   "id": "5cc4affe",
   "metadata": {},
   "outputs": [
    {
     "data": {
      "text/plain": [
       "((31056, 18), (7765, 18))"
      ]
     },
     "execution_count": 36,
     "metadata": {},
     "output_type": "execute_result"
    }
   ],
   "source": [
    "train.shape, test.shape"
   ]
  },
  {
   "cell_type": "code",
   "execution_count": 37,
   "id": "cc1baf1c",
   "metadata": {},
   "outputs": [],
   "source": [
    "train.dropna(subset = [\"Promotion Name\"], inplace = True)\n",
    "test.dropna(subset = [\"Promotion Name\"], inplace = True)"
   ]
  },
  {
   "cell_type": "code",
   "execution_count": 38,
   "id": "e3d50836",
   "metadata": {
    "execution": {
     "iopub.execute_input": "2023-09-03T12:19:28.734112Z",
     "iopub.status.busy": "2023-09-03T12:19:28.733337Z",
     "iopub.status.idle": "2023-09-03T12:19:29.476372Z",
     "shell.execute_reply": "2023-09-03T12:19:29.475120Z"
    },
    "id": "6nH7k-PAD2Bn",
    "papermill": {
     "duration": 0.768755,
     "end_time": "2023-09-03T12:19:29.479220",
     "exception": false,
     "start_time": "2023-09-03T12:19:28.710465",
     "status": "completed"
    },
    "tags": []
   },
   "outputs": [],
   "source": [
    "clean = ColumnTransformer([\n",
    "    (\"income\", income_pipeline, [\"Yearly Income\"]),\n",
    "    (\"promotion\", promotion_pipeline, [\"Promotion Name\"]),\n",
    "    (\"place\", place_code_pipeline, [\"Place Code\"]),\n",
    "    (\"info\", person_desc_pipeline, [\"Person Description\"]),\n",
    "])\n",
    "\n",
    "train_x = train.drop(\"Cost\", axis = 1)\n",
    "train_y = train[\"Cost\"]\n",
    "test_x = test.drop(\"Cost\", axis = 1)\n",
    "test_y = test[\"Cost\"]\n",
    "\n",
    "train_prepared = clean.fit_transform(train_x)\n",
    "test_prepared = clean.transform(test_x)"
   ]
  },
  {
   "cell_type": "code",
   "execution_count": 39,
   "id": "ed33b06a",
   "metadata": {
    "execution": {
     "iopub.execute_input": "2023-09-03T12:19:29.527697Z",
     "iopub.status.busy": "2023-09-03T12:19:29.527164Z",
     "iopub.status.idle": "2023-09-03T12:19:29.534166Z",
     "shell.execute_reply": "2023-09-03T12:19:29.532938Z"
    },
    "id": "nFxHISIvrWda",
    "outputId": "314e0fa4-68db-40a6-ca99-b5a93e58c286",
    "papermill": {
     "duration": 0.033039,
     "end_time": "2023-09-03T12:19:29.536471",
     "exception": false,
     "start_time": "2023-09-03T12:19:29.503432",
     "status": "completed"
    },
    "tags": []
   },
   "outputs": [
    {
     "data": {
      "text/plain": [
       "(26431, 26)"
      ]
     },
     "execution_count": 39,
     "metadata": {},
     "output_type": "execute_result"
    }
   ],
   "source": [
    "train_prepared.shape"
   ]
  },
  {
   "cell_type": "code",
   "execution_count": 40,
   "id": "596e3ed3",
   "metadata": {
    "execution": {
     "iopub.execute_input": "2023-09-03T12:19:29.581466Z",
     "iopub.status.busy": "2023-09-03T12:19:29.581096Z",
     "iopub.status.idle": "2023-09-03T12:19:29.588008Z",
     "shell.execute_reply": "2023-09-03T12:19:29.586876Z"
    },
    "id": "dAOuvyJbrm7W",
    "outputId": "9bf8a2ec-4d82-4903-feea-142bb049f3e8",
    "papermill": {
     "duration": 0.032483,
     "end_time": "2023-09-03T12:19:29.590050",
     "exception": false,
     "start_time": "2023-09-03T12:19:29.557567",
     "status": "completed"
    },
    "tags": []
   },
   "outputs": [
    {
     "data": {
      "text/plain": [
       "array([ 5., 37.,  0.,  0.,  0.,  0.,  0.,  0.,  0.,  0.,  1.,  0.,  0.,\n",
       "        0.,  0.,  0.,  0.,  0.,  0.,  0.,  0.,  0.,  0.,  5.,  0.,  1.])"
      ]
     },
     "execution_count": 40,
     "metadata": {},
     "output_type": "execute_result"
    }
   ],
   "source": [
    "train_prepared[0]"
   ]
  },
  {
   "cell_type": "code",
   "execution_count": 41,
   "id": "0e7a4db0",
   "metadata": {
    "execution": {
     "iopub.execute_input": "2023-09-03T12:19:29.636124Z",
     "iopub.status.busy": "2023-09-03T12:19:29.635723Z",
     "iopub.status.idle": "2023-09-03T12:20:08.175944Z",
     "shell.execute_reply": "2023-09-03T12:20:08.174662Z"
    },
    "id": "pFtEYqcMFHP6",
    "outputId": "3b122deb-3eb4-4785-e3da-1717e8c4c2f5",
    "papermill": {
     "duration": 38.591495,
     "end_time": "2023-09-03T12:20:08.202731",
     "exception": false,
     "start_time": "2023-09-03T12:19:29.611236",
     "status": "completed"
    },
    "tags": []
   },
   "outputs": [
    {
     "name": "stderr",
     "output_type": "stream",
     "text": [
      "[Parallel(n_jobs=-1)]: Using backend LokyBackend with 8 concurrent workers.\n",
      "[Parallel(n_jobs=-1)]: Done   2 out of   5 | elapsed:   27.2s remaining:   40.8s\n",
      "[Parallel(n_jobs=-1)]: Done   5 out of   5 | elapsed:   27.4s finished\n"
     ]
    },
    {
     "data": {
      "text/plain": [
       "array([-39.29964585, -37.3699518 , -41.84442128, -38.20823312,\n",
       "       -36.01788021])"
      ]
     },
     "execution_count": 41,
     "metadata": {},
     "output_type": "execute_result"
    }
   ],
   "source": [
    "# best 2 models so far\n",
    "reg = VotingRegressor([\n",
    "    (\"forest\", RandomForestRegressor(random_state = 42, n_estimators = 145)),\n",
    "    (\"extra\", ExtraTreesRegressor(random_state = 42, n_estimators = 140)),\n",
    "])\n",
    "res = cross_val_score(reg, train_prepared, train_y, scoring = \"neg_root_mean_squared_error\", n_jobs = -1, verbose = True, cv = 5)\n",
    "res"
   ]
  },
  {
   "cell_type": "code",
   "execution_count": 42,
   "id": "6808c18e",
   "metadata": {
    "execution": {
     "iopub.execute_input": "2023-09-03T12:20:08.248356Z",
     "iopub.status.busy": "2023-09-03T12:20:08.247893Z",
     "iopub.status.idle": "2023-09-03T12:20:08.255864Z",
     "shell.execute_reply": "2023-09-03T12:20:08.254665Z"
    },
    "id": "SsGOkDKphBnD",
    "outputId": "8226d016-a16e-4a6c-e852-a481b6f09435",
    "papermill": {
     "duration": 0.034226,
     "end_time": "2023-09-03T12:20:08.258563",
     "exception": false,
     "start_time": "2023-09-03T12:20:08.224337",
     "status": "completed"
    },
    "tags": []
   },
   "outputs": [
    {
     "data": {
      "text/plain": [
       "(-38.548026452697144, 1.9665253610084377)"
      ]
     },
     "execution_count": 42,
     "metadata": {},
     "output_type": "execute_result"
    }
   ],
   "source": [
    "np.mean(res), np.std(res)"
   ]
  },
  {
   "cell_type": "code",
   "execution_count": 43,
   "id": "02f3da66",
   "metadata": {
    "execution": {
     "iopub.execute_input": "2023-09-03T12:20:08.305060Z",
     "iopub.status.busy": "2023-09-03T12:20:08.304663Z",
     "iopub.status.idle": "2023-09-03T12:20:25.565331Z",
     "shell.execute_reply": "2023-09-03T12:20:25.564340Z"
    },
    "id": "PMCKHqqRZgVV",
    "outputId": "b77f55e8-bb4c-4733-c7a7-1038f5085c4e",
    "papermill": {
     "duration": 17.286672,
     "end_time": "2023-09-03T12:20:25.567656",
     "exception": false,
     "start_time": "2023-09-03T12:20:08.280984",
     "status": "completed"
    },
    "tags": []
   },
   "outputs": [
    {
     "data": {
      "text/html": [
       "<style>#sk-container-id-1 {color: black;background-color: white;}#sk-container-id-1 pre{padding: 0;}#sk-container-id-1 div.sk-toggleable {background-color: white;}#sk-container-id-1 label.sk-toggleable__label {cursor: pointer;display: block;width: 100%;margin-bottom: 0;padding: 0.3em;box-sizing: border-box;text-align: center;}#sk-container-id-1 label.sk-toggleable__label-arrow:before {content: \"▸\";float: left;margin-right: 0.25em;color: #696969;}#sk-container-id-1 label.sk-toggleable__label-arrow:hover:before {color: black;}#sk-container-id-1 div.sk-estimator:hover label.sk-toggleable__label-arrow:before {color: black;}#sk-container-id-1 div.sk-toggleable__content {max-height: 0;max-width: 0;overflow: hidden;text-align: left;background-color: #f0f8ff;}#sk-container-id-1 div.sk-toggleable__content pre {margin: 0.2em;color: black;border-radius: 0.25em;background-color: #f0f8ff;}#sk-container-id-1 input.sk-toggleable__control:checked~div.sk-toggleable__content {max-height: 200px;max-width: 100%;overflow: auto;}#sk-container-id-1 input.sk-toggleable__control:checked~label.sk-toggleable__label-arrow:before {content: \"▾\";}#sk-container-id-1 div.sk-estimator input.sk-toggleable__control:checked~label.sk-toggleable__label {background-color: #d4ebff;}#sk-container-id-1 div.sk-label input.sk-toggleable__control:checked~label.sk-toggleable__label {background-color: #d4ebff;}#sk-container-id-1 input.sk-hidden--visually {border: 0;clip: rect(1px 1px 1px 1px);clip: rect(1px, 1px, 1px, 1px);height: 1px;margin: -1px;overflow: hidden;padding: 0;position: absolute;width: 1px;}#sk-container-id-1 div.sk-estimator {font-family: monospace;background-color: #f0f8ff;border: 1px dotted black;border-radius: 0.25em;box-sizing: border-box;margin-bottom: 0.5em;}#sk-container-id-1 div.sk-estimator:hover {background-color: #d4ebff;}#sk-container-id-1 div.sk-parallel-item::after {content: \"\";width: 100%;border-bottom: 1px solid gray;flex-grow: 1;}#sk-container-id-1 div.sk-label:hover label.sk-toggleable__label {background-color: #d4ebff;}#sk-container-id-1 div.sk-serial::before {content: \"\";position: absolute;border-left: 1px solid gray;box-sizing: border-box;top: 0;bottom: 0;left: 50%;z-index: 0;}#sk-container-id-1 div.sk-serial {display: flex;flex-direction: column;align-items: center;background-color: white;padding-right: 0.2em;padding-left: 0.2em;position: relative;}#sk-container-id-1 div.sk-item {position: relative;z-index: 1;}#sk-container-id-1 div.sk-parallel {display: flex;align-items: stretch;justify-content: center;background-color: white;position: relative;}#sk-container-id-1 div.sk-item::before, #sk-container-id-1 div.sk-parallel-item::before {content: \"\";position: absolute;border-left: 1px solid gray;box-sizing: border-box;top: 0;bottom: 0;left: 50%;z-index: -1;}#sk-container-id-1 div.sk-parallel-item {display: flex;flex-direction: column;z-index: 1;position: relative;background-color: white;}#sk-container-id-1 div.sk-parallel-item:first-child::after {align-self: flex-end;width: 50%;}#sk-container-id-1 div.sk-parallel-item:last-child::after {align-self: flex-start;width: 50%;}#sk-container-id-1 div.sk-parallel-item:only-child::after {width: 0;}#sk-container-id-1 div.sk-dashed-wrapped {border: 1px dashed gray;margin: 0 0.4em 0.5em 0.4em;box-sizing: border-box;padding-bottom: 0.4em;background-color: white;}#sk-container-id-1 div.sk-label label {font-family: monospace;font-weight: bold;display: inline-block;line-height: 1.2em;}#sk-container-id-1 div.sk-label-container {text-align: center;}#sk-container-id-1 div.sk-container {/* jupyter's `normalize.less` sets `[hidden] { display: none; }` but bootstrap.min.css set `[hidden] { display: none !important; }` so we also need the `!important` here to be able to override the default hidden behavior on the sphinx rendered scikit-learn.org. See: https://github.com/scikit-learn/scikit-learn/issues/21755 */display: inline-block !important;position: relative;}#sk-container-id-1 div.sk-text-repr-fallback {display: none;}</style><div id=\"sk-container-id-1\" class=\"sk-top-container\"><div class=\"sk-text-repr-fallback\"><pre>VotingRegressor(estimators=[(&#x27;forest&#x27;,\n",
       "                             RandomForestRegressor(n_estimators=145,\n",
       "                                                   random_state=42)),\n",
       "                            (&#x27;extra&#x27;,\n",
       "                             ExtraTreesRegressor(n_estimators=140,\n",
       "                                                 random_state=42))])</pre><b>In a Jupyter environment, please rerun this cell to show the HTML representation or trust the notebook. <br />On GitHub, the HTML representation is unable to render, please try loading this page with nbviewer.org.</b></div><div class=\"sk-container\" hidden><div class=\"sk-item sk-dashed-wrapped\"><div class=\"sk-label-container\"><div class=\"sk-label sk-toggleable\"><input class=\"sk-toggleable__control sk-hidden--visually\" id=\"sk-estimator-id-1\" type=\"checkbox\" ><label for=\"sk-estimator-id-1\" class=\"sk-toggleable__label sk-toggleable__label-arrow\">VotingRegressor</label><div class=\"sk-toggleable__content\"><pre>VotingRegressor(estimators=[(&#x27;forest&#x27;,\n",
       "                             RandomForestRegressor(n_estimators=145,\n",
       "                                                   random_state=42)),\n",
       "                            (&#x27;extra&#x27;,\n",
       "                             ExtraTreesRegressor(n_estimators=140,\n",
       "                                                 random_state=42))])</pre></div></div></div><div class=\"sk-parallel\"><div class=\"sk-parallel-item\"><div class=\"sk-item\"><div class=\"sk-label-container\"><div class=\"sk-label sk-toggleable\"><label>forest</label></div></div><div class=\"sk-serial\"><div class=\"sk-item\"><div class=\"sk-estimator sk-toggleable\"><input class=\"sk-toggleable__control sk-hidden--visually\" id=\"sk-estimator-id-2\" type=\"checkbox\" ><label for=\"sk-estimator-id-2\" class=\"sk-toggleable__label sk-toggleable__label-arrow\">RandomForestRegressor</label><div class=\"sk-toggleable__content\"><pre>RandomForestRegressor(n_estimators=145, random_state=42)</pre></div></div></div></div></div></div><div class=\"sk-parallel-item\"><div class=\"sk-item\"><div class=\"sk-label-container\"><div class=\"sk-label sk-toggleable\"><label>extra</label></div></div><div class=\"sk-serial\"><div class=\"sk-item\"><div class=\"sk-estimator sk-toggleable\"><input class=\"sk-toggleable__control sk-hidden--visually\" id=\"sk-estimator-id-3\" type=\"checkbox\" ><label for=\"sk-estimator-id-3\" class=\"sk-toggleable__label sk-toggleable__label-arrow\">ExtraTreesRegressor</label><div class=\"sk-toggleable__content\"><pre>ExtraTreesRegressor(n_estimators=140, random_state=42)</pre></div></div></div></div></div></div></div></div></div></div>"
      ],
      "text/plain": [
       "VotingRegressor(estimators=[('forest',\n",
       "                             RandomForestRegressor(n_estimators=145,\n",
       "                                                   random_state=42)),\n",
       "                            ('extra',\n",
       "                             ExtraTreesRegressor(n_estimators=140,\n",
       "                                                 random_state=42))])"
      ]
     },
     "execution_count": 43,
     "metadata": {},
     "output_type": "execute_result"
    }
   ],
   "source": [
    "reg.fit(train_prepared, train_y)"
   ]
  },
  {
   "cell_type": "code",
   "execution_count": 44,
   "id": "9aacc47f",
   "metadata": {
    "execution": {
     "iopub.execute_input": "2023-09-03T12:20:25.618375Z",
     "iopub.status.busy": "2023-09-03T12:20:25.617937Z",
     "iopub.status.idle": "2023-09-03T12:20:25.644298Z",
     "shell.execute_reply": "2023-09-03T12:20:25.642679Z"
    },
    "id": "RPODjpuDuspY",
    "outputId": "705bef66-8df6-4498-806c-1aa236986f1b",
    "papermill": {
     "duration": 0.056017,
     "end_time": "2023-09-03T12:20:25.647125",
     "exception": false,
     "start_time": "2023-09-03T12:20:25.591108",
     "status": "completed"
    },
    "tags": []
   },
   "outputs": [
    {
     "data": {
      "text/plain": [
       "array([0.01673364, 0.45244274, 0.01641024, 0.02472771, 0.01045886,\n",
       "       0.0556211 , 0.02597346, 0.00850118, 0.02820336, 0.03137033,\n",
       "       0.02176449, 0.0229821 , 0.02339456, 0.04714907, 0.0289355 ,\n",
       "       0.02276268, 0.01409487, 0.01171336, 0.03211594, 0.03199316,\n",
       "       0.0053857 , 0.00848273, 0.00941175, 0.02417009, 0.01238066,\n",
       "       0.01282072])"
      ]
     },
     "execution_count": 44,
     "metadata": {},
     "output_type": "execute_result"
    }
   ],
   "source": [
    "reg.estimators_[0].feature_importances_"
   ]
  },
  {
   "cell_type": "code",
   "execution_count": 45,
   "id": "0af9ff4f",
   "metadata": {
    "execution": {
     "iopub.execute_input": "2023-09-03T12:20:25.695227Z",
     "iopub.status.busy": "2023-09-03T12:20:25.694817Z",
     "iopub.status.idle": "2023-09-03T12:20:26.814360Z",
     "shell.execute_reply": "2023-09-03T12:20:26.813265Z"
    },
    "id": "4WZyqtxrIl0i",
    "outputId": "69faba96-5873-449e-d195-7e50cbdd7b4e",
    "papermill": {
     "duration": 1.146508,
     "end_time": "2023-09-03T12:20:26.816879",
     "exception": false,
     "start_time": "2023-09-03T12:20:25.670371",
     "status": "completed"
    },
    "tags": []
   },
   "outputs": [
    {
     "name": "stdout",
     "output_type": "stream",
     "text": [
      "634.1813056780242\n",
      "5.398226094128699\n",
      "25.18295665083876\n"
     ]
    }
   ],
   "source": [
    "train_pred = reg.predict(train_prepared)\n",
    "print(mse(train_y, train_pred))\n",
    "print(mae(train_y, train_pred))\n",
    "print(np.sqrt(mse(train_y, train_pred)))"
   ]
  },
  {
   "cell_type": "code",
   "execution_count": 46,
   "id": "132c4468",
   "metadata": {
    "execution": {
     "iopub.execute_input": "2023-09-03T12:20:26.864072Z",
     "iopub.status.busy": "2023-09-03T12:20:26.863669Z",
     "iopub.status.idle": "2023-09-03T12:20:26.870058Z",
     "shell.execute_reply": "2023-09-03T12:20:26.869013Z"
    },
    "id": "d4Ko3hYcJKeT",
    "outputId": "1fc5577b-1399-4a2d-d597-8e79c5005866",
    "papermill": {
     "duration": 0.033196,
     "end_time": "2023-09-03T12:20:26.872838",
     "exception": false,
     "start_time": "2023-09-03T12:20:26.839642",
     "status": "completed"
    },
    "tags": []
   },
   "outputs": [
    {
     "data": {
      "text/plain": [
       "(6566, 26)"
      ]
     },
     "execution_count": 46,
     "metadata": {},
     "output_type": "execute_result"
    }
   ],
   "source": [
    "test_prepared.shape"
   ]
  },
  {
   "cell_type": "code",
   "execution_count": 47,
   "id": "726a8386",
   "metadata": {
    "execution": {
     "iopub.execute_input": "2023-09-03T12:20:26.922243Z",
     "iopub.status.busy": "2023-09-03T12:20:26.921846Z",
     "iopub.status.idle": "2023-09-03T12:20:28.014465Z",
     "shell.execute_reply": "2023-09-03T12:20:28.013373Z"
    },
    "id": "PhKAiyc_QMw0",
    "outputId": "8da63781-de19-4fd7-a9ad-f6333ec93f3b",
    "papermill": {
     "duration": 1.120024,
     "end_time": "2023-09-03T12:20:28.017061",
     "exception": false,
     "start_time": "2023-09-03T12:20:26.897037",
     "status": "completed"
    },
    "tags": []
   },
   "outputs": [
    {
     "data": {
      "text/plain": [
       "0.9742521263318109"
      ]
     },
     "execution_count": 47,
     "metadata": {},
     "output_type": "execute_result"
    }
   ],
   "source": [
    "reg.score(train_prepared, train_y)"
   ]
  },
  {
   "cell_type": "code",
   "execution_count": 48,
   "id": "4276e441",
   "metadata": {
    "execution": {
     "iopub.execute_input": "2023-09-03T12:20:28.066524Z",
     "iopub.status.busy": "2023-09-03T12:20:28.066093Z",
     "iopub.status.idle": "2023-09-03T12:20:28.363410Z",
     "shell.execute_reply": "2023-09-03T12:20:28.362352Z"
    },
    "id": "e0ysKMSlqlb6",
    "outputId": "acf616ba-81cb-4f89-9042-802c095cf418",
    "papermill": {
     "duration": 0.32577,
     "end_time": "2023-09-03T12:20:28.365783",
     "exception": false,
     "start_time": "2023-09-03T12:20:28.040013",
     "status": "completed"
    },
    "tags": []
   },
   "outputs": [
    {
     "data": {
      "text/plain": [
       "0.9460427418582421"
      ]
     },
     "execution_count": 48,
     "metadata": {},
     "output_type": "execute_result"
    }
   ],
   "source": [
    "reg.score(test_prepared, test_y)"
   ]
  },
  {
   "cell_type": "code",
   "execution_count": 49,
   "id": "eca6425b",
   "metadata": {
    "execution": {
     "iopub.execute_input": "2023-09-03T12:20:28.414047Z",
     "iopub.status.busy": "2023-09-03T12:20:28.413337Z",
     "iopub.status.idle": "2023-09-03T12:20:28.713768Z",
     "shell.execute_reply": "2023-09-03T12:20:28.712170Z"
    },
    "id": "e6tJmmqNI7P3",
    "outputId": "262798fa-09a8-41c6-f145-905f362375a1",
    "papermill": {
     "duration": 0.328183,
     "end_time": "2023-09-03T12:20:28.716628",
     "exception": false,
     "start_time": "2023-09-03T12:20:28.388445",
     "status": "completed"
    },
    "tags": []
   },
   "outputs": [
    {
     "name": "stdout",
     "output_type": "stream",
     "text": [
      "1343.548334973451\n",
      "9.164920084471214\n",
      "36.654444955195416\n"
     ]
    }
   ],
   "source": [
    "preds = reg.predict(test_prepared)\n",
    "mse_ = mse(test_y, preds)\n",
    "mae_ = mae(test_y, preds)\n",
    "rmse = np.sqrt(mse_)\n",
    "print(mse_, mae_, rmse, sep = \"\\n\")"
   ]
  },
  {
   "cell_type": "markdown",
   "id": "120739c8",
   "metadata": {},
   "source": [
    "# **Test**"
   ]
  },
  {
   "cell_type": "code",
   "execution_count": 50,
   "id": "48e04c62",
   "metadata": {
    "execution": {
     "iopub.execute_input": "2023-09-03T12:20:28.765830Z",
     "iopub.status.busy": "2023-09-03T12:20:28.764941Z",
     "iopub.status.idle": "2023-09-03T12:20:28.945983Z",
     "shell.execute_reply": "2023-09-03T12:20:28.944861Z"
    },
    "id": "7zKr8JUAUZ8f",
    "outputId": "ea19b9dc-664c-494e-ea0d-41d7f0951ffc",
    "papermill": {
     "duration": 0.208751,
     "end_time": "2023-09-03T12:20:28.948223",
     "exception": false,
     "start_time": "2023-09-03T12:20:28.739472",
     "status": "completed"
    },
    "tags": []
   },
   "outputs": [
    {
     "data": {
      "text/html": [
       "<div>\n",
       "<style scoped>\n",
       "    .dataframe tbody tr th:only-of-type {\n",
       "        vertical-align: middle;\n",
       "    }\n",
       "\n",
       "    .dataframe tbody tr th {\n",
       "        vertical-align: top;\n",
       "    }\n",
       "\n",
       "    .dataframe thead th {\n",
       "        text-align: right;\n",
       "    }\n",
       "</style>\n",
       "<table border=\"1\" class=\"dataframe\">\n",
       "  <thead>\n",
       "    <tr style=\"text-align: right;\">\n",
       "      <th></th>\n",
       "      <th>Unnamed: 0</th>\n",
       "      <th>Person Description</th>\n",
       "      <th>Place Code</th>\n",
       "      <th>Customer Order</th>\n",
       "      <th>Additional Features in market</th>\n",
       "      <th>Promotion Name</th>\n",
       "      <th>Store Kind</th>\n",
       "      <th>Store Sales</th>\n",
       "      <th>Store Cost</th>\n",
       "      <th>Gross Weight</th>\n",
       "      <th>Net Weight</th>\n",
       "      <th>Package Weight</th>\n",
       "      <th>Is Recyclable?</th>\n",
       "      <th>Yearly Income</th>\n",
       "      <th>Store Area</th>\n",
       "      <th>Grocery Area</th>\n",
       "      <th>Frozen Area</th>\n",
       "      <th>Meat Area</th>\n",
       "    </tr>\n",
       "  </thead>\n",
       "  <tbody>\n",
       "    <tr>\n",
       "      <th>0</th>\n",
       "      <td>0</td>\n",
       "      <td>Single Male with four children, education: par...</td>\n",
       "      <td>B06ls_CA</td>\n",
       "      <td>Candy from Snacks department, Ordered Brand : ...</td>\n",
       "      <td>['Florist', 'Ready Food', 'Video Store', 'Bar ...</td>\n",
       "      <td>Fantastic Discounts</td>\n",
       "      <td>Gourmet</td>\n",
       "      <td>11.76 Millions</td>\n",
       "      <td>4.704 Millions</td>\n",
       "      <td>31.8337</td>\n",
       "      <td>28.7811</td>\n",
       "      <td>3.0525</td>\n",
       "      <td>yes</td>\n",
       "      <td>50K+</td>\n",
       "      <td>2201.06</td>\n",
       "      <td>1424.85</td>\n",
       "      <td>465.54</td>\n",
       "      <td>308.73</td>\n",
       "    </tr>\n",
       "    <tr>\n",
       "      <th>1</th>\n",
       "      <td>1</td>\n",
       "      <td>Married Female with three children, education:...</td>\n",
       "      <td>S01em_OR</td>\n",
       "      <td>Vegetables from Frozen Foods department, Order...</td>\n",
       "      <td>['Florist', 'Coffee Bar', 'Ready Food', 'Bar F...</td>\n",
       "      <td>Bag Stuffer</td>\n",
       "      <td>Deluxe</td>\n",
       "      <td>2.16 Millions</td>\n",
       "      <td>0.6696 Millions</td>\n",
       "      <td>29.9440</td>\n",
       "      <td>27.0368</td>\n",
       "      <td>2.9072</td>\n",
       "      <td>no</td>\n",
       "      <td>70K+</td>\n",
       "      <td>2577.16</td>\n",
       "      <td>1735.17</td>\n",
       "      <td>505.07</td>\n",
       "      <td>336.59</td>\n",
       "    </tr>\n",
       "    <tr>\n",
       "      <th>2</th>\n",
       "      <td>2</td>\n",
       "      <td>Single Female with three children, education: ...</td>\n",
       "      <td>H11go_ZA</td>\n",
       "      <td>Dairy from Dairy department, Ordered Brand : Club</td>\n",
       "      <td>['Bar For Salad', 'Video Store', 'Ready Food',...</td>\n",
       "      <td>Pick Your Savings</td>\n",
       "      <td>Deluxe</td>\n",
       "      <td>1.83 Millions</td>\n",
       "      <td>0.8235 Millions</td>\n",
       "      <td>29.2172</td>\n",
       "      <td>26.3100</td>\n",
       "      <td>2.9072</td>\n",
       "      <td>no</td>\n",
       "      <td>130K+</td>\n",
       "      <td>2837.58</td>\n",
       "      <td>2038.11</td>\n",
       "      <td>481.98</td>\n",
       "      <td>321.26</td>\n",
       "    </tr>\n",
       "    <tr>\n",
       "      <th>3</th>\n",
       "      <td>3</td>\n",
       "      <td>Single Male with three children, education: pa...</td>\n",
       "      <td>M10da_YU</td>\n",
       "      <td>Frozen Desserts from Frozen Foods department, ...</td>\n",
       "      <td>['Coffee Bar', 'Video Store', 'Bar For Salad',...</td>\n",
       "      <td>Price Winners</td>\n",
       "      <td>Deluxe</td>\n",
       "      <td>8.82 Millions</td>\n",
       "      <td>4.41 Millions</td>\n",
       "      <td>28.0543</td>\n",
       "      <td>25.0018</td>\n",
       "      <td>3.0525</td>\n",
       "      <td>no</td>\n",
       "      <td>10K+</td>\n",
       "      <td>2859.04</td>\n",
       "      <td>1871.16</td>\n",
       "      <td>593.93</td>\n",
       "      <td>394.58</td>\n",
       "    </tr>\n",
       "    <tr>\n",
       "      <th>4</th>\n",
       "      <td>4</td>\n",
       "      <td>Single Male with two children, education: high...</td>\n",
       "      <td>L05es_CA</td>\n",
       "      <td>Hot Beverages from Beverages department, Order...</td>\n",
       "      <td>['Florist']</td>\n",
       "      <td>Dollar Days</td>\n",
       "      <td>Supermarket</td>\n",
       "      <td>4.32 Millions</td>\n",
       "      <td>1.9872 Millions</td>\n",
       "      <td>23.5482</td>\n",
       "      <td>20.6410</td>\n",
       "      <td>2.9072</td>\n",
       "      <td>no</td>\n",
       "      <td>30K+</td>\n",
       "      <td>2193.97</td>\n",
       "      <td>1320.15</td>\n",
       "      <td>523.32</td>\n",
       "      <td>348.85</td>\n",
       "    </tr>\n",
       "  </tbody>\n",
       "</table>\n",
       "</div>"
      ],
      "text/plain": [
       "   Unnamed: 0                                 Person Description Place Code  \\\n",
       "0           0  Single Male with four children, education: par...   B06ls_CA   \n",
       "1           1  Married Female with three children, education:...   S01em_OR   \n",
       "2           2  Single Female with three children, education: ...   H11go_ZA   \n",
       "3           3  Single Male with three children, education: pa...   M10da_YU   \n",
       "4           4  Single Male with two children, education: high...   L05es_CA   \n",
       "\n",
       "                                      Customer Order  \\\n",
       "0  Candy from Snacks department, Ordered Brand : ...   \n",
       "1  Vegetables from Frozen Foods department, Order...   \n",
       "2  Dairy from Dairy department, Ordered Brand : Club   \n",
       "3  Frozen Desserts from Frozen Foods department, ...   \n",
       "4  Hot Beverages from Beverages department, Order...   \n",
       "\n",
       "                       Additional Features in market       Promotion Name  \\\n",
       "0  ['Florist', 'Ready Food', 'Video Store', 'Bar ...  Fantastic Discounts   \n",
       "1  ['Florist', 'Coffee Bar', 'Ready Food', 'Bar F...          Bag Stuffer   \n",
       "2  ['Bar For Salad', 'Video Store', 'Ready Food',...    Pick Your Savings   \n",
       "3  ['Coffee Bar', 'Video Store', 'Bar For Salad',...        Price Winners   \n",
       "4                                        ['Florist']          Dollar Days   \n",
       "\n",
       "    Store Kind     Store Sales       Store Cost  Gross Weight  Net Weight  \\\n",
       "0      Gourmet  11.76 Millions   4.704 Millions       31.8337     28.7811   \n",
       "1       Deluxe   2.16 Millions  0.6696 Millions       29.9440     27.0368   \n",
       "2       Deluxe   1.83 Millions  0.8235 Millions       29.2172     26.3100   \n",
       "3       Deluxe   8.82 Millions    4.41 Millions       28.0543     25.0018   \n",
       "4  Supermarket   4.32 Millions  1.9872 Millions       23.5482     20.6410   \n",
       "\n",
       "   Package Weight Is Recyclable? Yearly Income  Store Area  Grocery Area  \\\n",
       "0          3.0525            yes          50K+     2201.06       1424.85   \n",
       "1          2.9072             no          70K+     2577.16       1735.17   \n",
       "2          2.9072             no         130K+     2837.58       2038.11   \n",
       "3          3.0525             no          10K+     2859.04       1871.16   \n",
       "4          2.9072             no          30K+     2193.97       1320.15   \n",
       "\n",
       "   Frozen Area  Meat Area  \n",
       "0       465.54     308.73  \n",
       "1       505.07     336.59  \n",
       "2       481.98     321.26  \n",
       "3       593.93     394.58  \n",
       "4       523.32     348.85  "
      ]
     },
     "execution_count": 50,
     "metadata": {},
     "output_type": "execute_result"
    }
   ],
   "source": [
    "final_test = pd.read_csv(\"test.csv\")\n",
    "final_test.head()"
   ]
  },
  {
   "cell_type": "code",
   "execution_count": 51,
   "id": "df965c88",
   "metadata": {
    "execution": {
     "iopub.execute_input": "2023-09-03T12:20:28.998960Z",
     "iopub.status.busy": "2023-09-03T12:20:28.998560Z",
     "iopub.status.idle": "2023-09-03T12:20:29.022979Z",
     "shell.execute_reply": "2023-09-03T12:20:29.021609Z"
    },
    "id": "F9cO53_UlN12",
    "outputId": "9a541780-14bb-45dc-d9ac-6aed057edcf9",
    "papermill": {
     "duration": 0.053114,
     "end_time": "2023-09-03T12:20:29.025620",
     "exception": false,
     "start_time": "2023-09-03T12:20:28.972506",
     "status": "completed"
    },
    "tags": []
   },
   "outputs": [
    {
     "name": "stdout",
     "output_type": "stream",
     "text": [
      "<class 'pandas.core.frame.DataFrame'>\n",
      "RangeIndex: 19942 entries, 0 to 19941\n",
      "Data columns (total 18 columns):\n",
      " #   Column                         Non-Null Count  Dtype  \n",
      "---  ------                         --------------  -----  \n",
      " 0   Unnamed: 0                     19942 non-null  int64  \n",
      " 1   Person Description             19942 non-null  object \n",
      " 2   Place Code                     19942 non-null  object \n",
      " 3   Customer Order                 19942 non-null  object \n",
      " 4   Additional Features in market  19942 non-null  object \n",
      " 5   Promotion Name                 19916 non-null  object \n",
      " 6   Store Kind                     19914 non-null  object \n",
      " 7   Store Sales                    19942 non-null  object \n",
      " 8   Store Cost                     19942 non-null  object \n",
      " 9   Gross Weight                   18959 non-null  float64\n",
      " 10  Net Weight                     18924 non-null  float64\n",
      " 11  Package Weight                 19942 non-null  float64\n",
      " 12  Is Recyclable?                 19942 non-null  object \n",
      " 13  Yearly Income                  19942 non-null  object \n",
      " 14  Store Area                     18946 non-null  float64\n",
      " 15  Grocery Area                   18900 non-null  float64\n",
      " 16  Frozen Area                    18981 non-null  float64\n",
      " 17  Meat Area                      18967 non-null  float64\n",
      "dtypes: float64(7), int64(1), object(10)\n",
      "memory usage: 2.7+ MB\n"
     ]
    }
   ],
   "source": [
    "final_test.info()"
   ]
  },
  {
   "cell_type": "code",
   "execution_count": 52,
   "id": "6d5839ff",
   "metadata": {
    "execution": {
     "iopub.execute_input": "2023-09-03T12:20:29.076555Z",
     "iopub.status.busy": "2023-09-03T12:20:29.075531Z",
     "iopub.status.idle": "2023-09-03T12:20:29.094087Z",
     "shell.execute_reply": "2023-09-03T12:20:29.092992Z"
    },
    "id": "4VGmbIua5nqx",
    "outputId": "6c498969-6425-47e9-9f39-b20abce8feaf",
    "papermill": {
     "duration": 0.046241,
     "end_time": "2023-09-03T12:20:29.096289",
     "exception": false,
     "start_time": "2023-09-03T12:20:29.050048",
     "status": "completed"
    },
    "tags": []
   },
   "outputs": [
    {
     "data": {
      "text/plain": [
       "Unnamed: 0                          0\n",
       "Person Description                  0\n",
       "Place Code                          0\n",
       "Customer Order                      0\n",
       "Additional Features in market       0\n",
       "Promotion Name                     26\n",
       "Store Kind                         28\n",
       "Store Sales                         0\n",
       "Store Cost                          0\n",
       "Gross Weight                      983\n",
       "Net Weight                       1018\n",
       "Package Weight                      0\n",
       "Is Recyclable?                      0\n",
       "Yearly Income                       0\n",
       "Store Area                        996\n",
       "Grocery Area                     1042\n",
       "Frozen Area                       961\n",
       "Meat Area                         975\n",
       "dtype: int64"
      ]
     },
     "execution_count": 52,
     "metadata": {},
     "output_type": "execute_result"
    }
   ],
   "source": [
    "final_test.isna().sum()"
   ]
  },
  {
   "cell_type": "code",
   "execution_count": 53,
   "id": "23220d8c",
   "metadata": {
    "execution": {
     "iopub.execute_input": "2023-09-03T12:20:29.147030Z",
     "iopub.status.busy": "2023-09-03T12:20:29.146158Z",
     "iopub.status.idle": "2023-09-03T12:20:29.563557Z",
     "shell.execute_reply": "2023-09-03T12:20:29.562300Z"
    },
    "id": "5SBy789jmQXY",
    "papermill": {
     "duration": 0.446367,
     "end_time": "2023-09-03T12:20:29.566187",
     "exception": false,
     "start_time": "2023-09-03T12:20:29.119820",
     "status": "completed"
    },
    "tags": []
   },
   "outputs": [],
   "source": [
    "final_test_pre = clean.transform(final_test)"
   ]
  },
  {
   "cell_type": "code",
   "execution_count": 54,
   "id": "ca9f446d",
   "metadata": {
    "execution": {
     "iopub.execute_input": "2023-09-03T12:20:29.616734Z",
     "iopub.status.busy": "2023-09-03T12:20:29.616333Z",
     "iopub.status.idle": "2023-09-03T12:20:29.624932Z",
     "shell.execute_reply": "2023-09-03T12:20:29.623782Z"
    },
    "id": "fCP4TjP5q-Kb",
    "outputId": "55e1331a-ae9b-4142-966d-93e09ec0555d",
    "papermill": {
     "duration": 0.035866,
     "end_time": "2023-09-03T12:20:29.627181",
     "exception": false,
     "start_time": "2023-09-03T12:20:29.591315",
     "status": "completed"
    },
    "tags": []
   },
   "outputs": [
    {
     "data": {
      "text/plain": [
       "array([[ 5., 11.,  0., ...,  4.,  4.,  2.],\n",
       "       [ 6.,  0.,  0., ...,  3.,  1.,  1.],\n",
       "       [ 2., 21.,  0., ...,  3.,  4.,  3.],\n",
       "       ...,\n",
       "       [ 5.,  2.,  0., ...,  5.,  0.,  3.],\n",
       "       [ 6.,  0.,  0., ...,  1.,  1.,  1.],\n",
       "       [ 4., 39.,  0., ...,  2.,  2.,  0.]])"
      ]
     },
     "execution_count": 54,
     "metadata": {},
     "output_type": "execute_result"
    }
   ],
   "source": [
    "final_test_pre"
   ]
  },
  {
   "cell_type": "code",
   "execution_count": 55,
   "id": "97052354",
   "metadata": {
    "execution": {
     "iopub.execute_input": "2023-09-03T12:20:29.677852Z",
     "iopub.status.busy": "2023-09-03T12:20:29.677428Z",
     "iopub.status.idle": "2023-09-03T12:20:29.683736Z",
     "shell.execute_reply": "2023-09-03T12:20:29.682623Z"
    },
    "id": "A1MCxg8yn-i0",
    "outputId": "3c3650ab-c353-4546-f0ca-4ac3ff06aa56",
    "papermill": {
     "duration": 0.035264,
     "end_time": "2023-09-03T12:20:29.685929",
     "exception": false,
     "start_time": "2023-09-03T12:20:29.650665",
     "status": "completed"
    },
    "tags": []
   },
   "outputs": [
    {
     "data": {
      "text/plain": [
       "(19942, 26)"
      ]
     },
     "execution_count": 55,
     "metadata": {},
     "output_type": "execute_result"
    }
   ],
   "source": [
    "final_test_pre.shape"
   ]
  },
  {
   "cell_type": "code",
   "execution_count": 56,
   "id": "87c96911",
   "metadata": {
    "execution": {
     "iopub.execute_input": "2023-09-03T12:20:29.734815Z",
     "iopub.status.busy": "2023-09-03T12:20:29.734421Z",
     "iopub.status.idle": "2023-09-03T12:20:30.581188Z",
     "shell.execute_reply": "2023-09-03T12:20:30.579626Z"
    },
    "id": "7_CYA4jNn_tL",
    "papermill": {
     "duration": 0.874915,
     "end_time": "2023-09-03T12:20:30.584405",
     "exception": false,
     "start_time": "2023-09-03T12:20:29.709490",
     "status": "completed"
    },
    "tags": []
   },
   "outputs": [],
   "source": [
    "final_pred = reg.predict(final_test_pre)"
   ]
  },
  {
   "cell_type": "code",
   "execution_count": 57,
   "id": "5420dd73",
   "metadata": {
    "execution": {
     "iopub.execute_input": "2023-09-03T12:20:30.635974Z",
     "iopub.status.busy": "2023-09-03T12:20:30.634484Z",
     "iopub.status.idle": "2023-09-03T12:20:30.639858Z",
     "shell.execute_reply": "2023-09-03T12:20:30.638917Z"
    },
    "id": "cZqOgj8OoV5V",
    "papermill": {
     "duration": 0.033439,
     "end_time": "2023-09-03T12:20:30.642261",
     "exception": false,
     "start_time": "2023-09-03T12:20:30.608822",
     "status": "completed"
    },
    "tags": []
   },
   "outputs": [],
   "source": [
    "id = final_test.loc[:, \"Unnamed: 0\"]"
   ]
  },
  {
   "cell_type": "code",
   "execution_count": 58,
   "id": "97f58bc3",
   "metadata": {
    "execution": {
     "iopub.execute_input": "2023-09-03T12:20:30.694416Z",
     "iopub.status.busy": "2023-09-03T12:20:30.694021Z",
     "iopub.status.idle": "2023-09-03T12:20:30.700756Z",
     "shell.execute_reply": "2023-09-03T12:20:30.699615Z"
    },
    "id": "Ioh3ztSfobZk",
    "outputId": "e1089437-a3f3-469d-ed1a-bae5bfa72a1f",
    "papermill": {
     "duration": 0.03512,
     "end_time": "2023-09-03T12:20:30.702956",
     "exception": false,
     "start_time": "2023-09-03T12:20:30.667836",
     "status": "completed"
    },
    "tags": []
   },
   "outputs": [
    {
     "data": {
      "text/plain": [
       "(19942,)"
      ]
     },
     "execution_count": 58,
     "metadata": {},
     "output_type": "execute_result"
    }
   ],
   "source": [
    "final_pred.shape"
   ]
  },
  {
   "cell_type": "code",
   "execution_count": 59,
   "id": "b13900e4",
   "metadata": {
    "execution": {
     "iopub.execute_input": "2023-09-03T12:20:30.754220Z",
     "iopub.status.busy": "2023-09-03T12:20:30.753703Z",
     "iopub.status.idle": "2023-09-03T12:20:30.767943Z",
     "shell.execute_reply": "2023-09-03T12:20:30.766696Z"
    },
    "id": "d4EqcTeRojqo",
    "outputId": "9e6b950c-6931-4d7e-e2b6-4cdb6ea37298",
    "papermill": {
     "duration": 0.042868,
     "end_time": "2023-09-03T12:20:30.770413",
     "exception": false,
     "start_time": "2023-09-03T12:20:30.727545",
     "status": "completed"
    },
    "tags": []
   },
   "outputs": [
    {
     "data": {
      "text/html": [
       "<div>\n",
       "<style scoped>\n",
       "    .dataframe tbody tr th:only-of-type {\n",
       "        vertical-align: middle;\n",
       "    }\n",
       "\n",
       "    .dataframe tbody tr th {\n",
       "        vertical-align: top;\n",
       "    }\n",
       "\n",
       "    .dataframe thead th {\n",
       "        text-align: right;\n",
       "    }\n",
       "</style>\n",
       "<table border=\"1\" class=\"dataframe\">\n",
       "  <thead>\n",
       "    <tr style=\"text-align: right;\">\n",
       "      <th></th>\n",
       "      <th>ID</th>\n",
       "      <th>Cost</th>\n",
       "    </tr>\n",
       "  </thead>\n",
       "  <tbody>\n",
       "    <tr>\n",
       "      <th>0</th>\n",
       "      <td>0</td>\n",
       "      <td>718.915800</td>\n",
       "    </tr>\n",
       "    <tr>\n",
       "      <th>1</th>\n",
       "      <td>1</td>\n",
       "      <td>654.886327</td>\n",
       "    </tr>\n",
       "    <tr>\n",
       "      <th>2</th>\n",
       "      <td>2</td>\n",
       "      <td>739.417400</td>\n",
       "    </tr>\n",
       "    <tr>\n",
       "      <th>3</th>\n",
       "      <td>3</td>\n",
       "      <td>436.966500</td>\n",
       "    </tr>\n",
       "    <tr>\n",
       "      <th>4</th>\n",
       "      <td>4</td>\n",
       "      <td>748.099200</td>\n",
       "    </tr>\n",
       "  </tbody>\n",
       "</table>\n",
       "</div>"
      ],
      "text/plain": [
       "   ID        Cost\n",
       "0   0  718.915800\n",
       "1   1  654.886327\n",
       "2   2  739.417400\n",
       "3   3  436.966500\n",
       "4   4  748.099200"
      ]
     },
     "execution_count": 59,
     "metadata": {},
     "output_type": "execute_result"
    }
   ],
   "source": [
    "sub = pd.DataFrame(columns = [\"ID\", \"Cost\"])\n",
    "sub[\"ID\"] = id\n",
    "sub[\"Cost\"] = final_pred\n",
    "sub.head()"
   ]
  },
  {
   "cell_type": "code",
   "execution_count": 60,
   "id": "44cb93d5",
   "metadata": {
    "execution": {
     "iopub.execute_input": "2023-09-03T12:20:30.820824Z",
     "iopub.status.busy": "2023-09-03T12:20:30.820443Z",
     "iopub.status.idle": "2023-09-03T12:20:30.878153Z",
     "shell.execute_reply": "2023-09-03T12:20:30.877028Z"
    },
    "id": "druRs61epLe6",
    "papermill": {
     "duration": 0.085602,
     "end_time": "2023-09-03T12:20:30.880910",
     "exception": false,
     "start_time": "2023-09-03T12:20:30.795308",
     "status": "completed"
    },
    "tags": []
   },
   "outputs": [],
   "source": [
    "sub.to_csv(\"final.csv\", index = False)"
   ]
  }
 ],
 "metadata": {
  "colab": {
   "collapsed_sections": [
    "v_HuBOhPVYC4",
    "UZYHsSiwTq1g",
    "-O8tWr8yYqKy",
    "mZ9LmDRQgCvy",
    "9BZWDDnwjZ-k",
    "gNez_KljkycA",
    "IkU_QWNiDNc0",
    "WUOEsqZnLgAU",
    "ZiTJpcqVN3IY",
    "VH6H6RP-ct9e"
   ],
   "provenance": []
  },
  "kernelspec": {
   "display_name": "Python 3 (ipykernel)",
   "language": "python",
   "name": "python3"
  },
  "language_info": {
   "codemirror_mode": {
    "name": "ipython",
    "version": 3
   },
   "file_extension": ".py",
   "mimetype": "text/x-python",
   "name": "python",
   "nbconvert_exporter": "python",
   "pygments_lexer": "ipython3",
   "version": "3.10.9"
  },
  "papermill": {
   "default_parameters": {},
   "duration": 76.98943,
   "end_time": "2023-09-03T12:20:33.527138",
   "environment_variables": {},
   "exception": null,
   "input_path": "__notebook__.ipynb",
   "output_path": "__notebook__.ipynb",
   "parameters": {},
   "start_time": "2023-09-03T12:19:16.537708",
   "version": "2.4.0"
  }
 },
 "nbformat": 4,
 "nbformat_minor": 5
}
